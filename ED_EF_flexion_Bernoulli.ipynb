{
 "cells": [
  {
   "cell_type": "markdown",
   "metadata": {},
   "source": [
    "# Résolution d'un problème de flexion d'un poteau par éléments finis - Modèle de Bernoulli\n",
    "Exemple vu en ED éléments finis - Mécanique des solides déformations \n",
    "\n",
    "@Arts et Métiers - Campus de Bordeaux"
   ]
  },
  {
   "cell_type": "markdown",
   "metadata": {},
   "source": [
    "## Choix d’une modélisation\n",
    "On souhaite étudier la tenue mécanique d’un poteau en acier (S185 galvanisé) soumis à l'action du vent.\n",
    "Ce poteau fait une hauteur H. Il est tubulaire : sa section droite est circulaire et creuse, de rayon extérieur r et d’épaisseur e constants.\n",
    "\n",
    "L'action du vent est modélisée par un efort linéique à ditribution linéaire : \n",
    "$\\vec{f_l} = \\frac{f_l}{H}x \\vec{y}$ .\n",
    "La liaison entre le poteau et le sol est modélisée par un encastrement.\n",
    "\n",
    "On suppose que le matériau est homogène et isotrope. Ses propriétés élastiques sont données par le module d’Young $E$, le coefficient de Poisson $\\nu$, et la limite d’élasticité $Re$. Sa masse volumique est notée $\\rho$.\n",
    "Le cadre d’application est celui des Petites Perturbations.\n",
    "\n",
    "Données : $H$ = 5m, $r$ = 15cm, $e$ = 5mm, $E$ = 210GPa, $\\nu$ = 0.285, $Re$ = 185MPa, $\\rho$ = 7850kg/m3.\n",
    "\n",
    "Remarque : \n",
    "* Dans le code, certains paramètres sont définis comme des fonctions pour pouvoir les remplacer par des valeurs variables le long de la poutre. \n",
    "* Plusieurs conditions de chargement ont été prédéfinies. Le cas de chargement peut être modifié en changeant la variable 'LoadCondition'.\n"
   ]
  },
  {
   "cell_type": "code",
   "execution_count": 78,
   "metadata": {},
   "outputs": [],
   "source": [
    "import numpy as np\n",
    "from matplotlib import pylab as plt\n",
    "\n",
    "H = 3\n",
    "E = 1e3 #Young Modulus\n",
    "nu = 0.3 #poisson Ratio\n",
    "\n",
    "# the following function are given in function of the global coordinate x\n",
    "def r(x): return 0.1 # Constant section radius\n",
    "#def r(x): return 0.20*(1-x/H)+ 0.10*x/H # Variale section radius\n",
    "def e(x): return 0.1 #Section thickness\n",
    "def S(x): return np.pi * (r(x)**2 - (r(x)-e(x))**2)  #Section Area\n",
    "def I(x): return np.pi/4 * (r(x)**4 - (r(x)-e(x))**4)  #Section Area\n",
    "\n",
    "LoadCondition = 2\n",
    "if LoadCondition == 0:\n",
    "    #Constant lineic force    \n",
    "    F = 0\n",
    "    def fl(x): return -100 #lineic force \n",
    "elif LoadCondition == 1: \n",
    "    #Variable lineic force (with constant derivative)\n",
    "    F = 0\n",
    "    def fl(x): \n",
    "        a = 100/H ; b = 0\n",
    "        return a*x+b\n",
    "elif LoadCondition == 2: \n",
    "    F=-1 #point force at the high end of the beam\n",
    "    #node force on the top extremity\n",
    "    def fl(x): return 0        \n"
   ]
  },
  {
   "cell_type": "markdown",
   "metadata": {},
   "source": [
    "## Choix d'une discrétisation\n",
    "Afin de résoudre ce problème par la méthode des éléments finis, on choisit de discrétiser la poutre ci-dessus en 3 éléments de longueur L identiques : poutres à deux nœuds en flexion avec 2 degrés de liberté par noeud (déplacement $v$ suivant $y$ et rotation $\\theta$ suivant $\\vec{z}$).\n",
    "Il y aura ainsi 4 noeuds au total. La position des noeuds suivant $\\vec{x}$ est déterminé avec la fonction linspace de numpy."
   ]
  },
  {
   "cell_type": "code",
   "execution_count": 79,
   "metadata": {},
   "outputs": [
    {
     "name": "stdout",
     "output_type": "stream",
     "text": [
      "[0. 3.]\n"
     ]
    }
   ],
   "source": [
    "xmin = 0\n",
    "xmax = H\n",
    "NumberOfElements = 1\n",
    "\n",
    "#2 nodes beam \n",
    "NumberOfNodes = NumberOfElements + 1\n",
    "    \n",
    "NodeCoordinates = np.linspace(xmin,xmax,NumberOfNodes)\n",
    "print(NodeCoordinates)"
   ]
  },
  {
   "cell_type": "markdown",
   "metadata": {},
   "source": [
    "Pour définir les 3 éléments, il convient de créer une matrice de connection dont les lignes sont les numéros des noeuds appartenant aux éléments (nombre de lignes = nombre d'éléments)"
   ]
  },
  {
   "cell_type": "code",
   "execution_count": 80,
   "metadata": {},
   "outputs": [
    {
     "name": "stdout",
     "output_type": "stream",
     "text": [
      "[[0 1]]\n"
     ]
    }
   ],
   "source": [
    "ConnectionMatrix = np.c_[(np.arange(NumberOfNodes-1), np.arange(1,NumberOfNodes))]  \n",
    "print(ConnectionMatrix)"
   ]
  },
  {
   "cell_type": "markdown",
   "metadata": {},
   "source": [
    "## Champs de déplacement de déformation et de contraintes approchés \n",
    "### Interpolation du champ de déplacement\n",
    "Pour la méthode des éléments finis, il faut commencer par définir une fonction d'interpolation sur chaque élément.\n",
    "Pour un élément poutre de Bernoulli en flexion à 2 noeuds, de longueur $L$ sur l'intervale $[0,L]$, le champ de déplacement suivant est interpolé par : \n",
    "$$v(\\xi) = \\left[ \\begin{matrix} \\frac{2}{L^3}\\xi^3 - \\frac{3}{L^2} \\xi^2 + 1 & -\\frac{2}{L^3}\\xi^3 + \\frac{3}{L^2} \\xi^2 & \\frac{1}{L^2}\\xi^3 - \\frac{2}{L} \\xi^2 + \\xi & \\frac{1}{L^2}\\xi^3 - \\frac{1}{L} \\xi^2 \\end{matrix} \\right] . \\left[ \\begin{matrix} v_i \\\\ v_j \\\\ \\theta_i \\\\ \\theta_j \\end{matrix} \\right] = N(\\xi) . q_{el}$$\n",
    "$\\xi$ est la coordonnée définie dans le repère élémentaire. Pour passer du repère élémentaire au repère gobal, il suffit de faire le changement de variable $x = \\xi+x_0$ avec $x_0$ l'absisse de l'origine du repère élémentaire.\n",
    "\n",
    "La fonction $N(\\xi, L)$ est donc créée pour l'interpolation du champ de déplacement. Si $\\xi$ et $L$ sont des scalaires, $N(\\xi, L)$ renvoie une matrice ligne. Si $\\xi$ est un numpy array de dimension 1, $N$ retourne un tableau de dimension 3 contenant toutes les valeurs de $N$ pour les position $\\xi$ données."
   ]
  },
  {
   "cell_type": "code",
   "execution_count": 81,
   "metadata": {},
   "outputs": [],
   "source": [
    "def N(xi,L):\n",
    "    # element coordinate xi\n",
    "    # shape function for vi, vj, theta i, theta j between 0 and L\n",
    "    return np.array([[2/L**3*xi**3 - 3/L**2*xi**2 +1 ,                            \n",
    "                      -2/L**3*xi**3 + 3/L**2*xi**2 ,\n",
    "                      1/L**2*xi**3 - 2/L*xi**2 + xi,\n",
    "                      1/L**2*xi**3 - 1/L*xi**2]])"
   ]
  },
  {
   "cell_type": "markdown",
   "metadata": {},
   "source": [
    "### Visualisations les fonctions de forme en utilisant la fonction plot de matplotlib. "
   ]
  },
  {
   "cell_type": "code",
   "execution_count": 82,
   "metadata": {
    "scrolled": true
   },
   "outputs": [
    {
     "data": {
      "text/plain": [
       "<matplotlib.legend.Legend at 0x1c744089ec8>"
      ]
     },
     "execution_count": 82,
     "metadata": {},
     "output_type": "execute_result"
    },
    {
     "data": {
      "image/png": "[encoded data removed]",
      "text/plain": [
       "<Figure size 432x288 with 1 Axes>"
      ]
     },
     "metadata": {
      "needs_background": "light"
     },
     "output_type": "display_data"
    }
   ],
   "source": [
    "NumberOfPointsToPlot = 50\n",
    "L=1\n",
    "xi = np.linspace(0, L, NumberOfPointsToPlot)\n",
    "plt.figure()\n",
    "plt.plot(xi, N(xi,L)[0,0,:], label='N_{vi}')\n",
    "plt.plot(xi, N(xi,L)[0,1,:], label='N_{vj}')\n",
    "plt.plot(xi, N(xi,L)[0,2,:], label='N_{theta i}')\n",
    "plt.plot(xi, N(xi,L)[0,3,:], label='N_{theta j}')\n",
    "\n",
    "plt.xlabel('xi')\n",
    "plt.ylabel('N(xi)')\n",
    "plt.legend()\n"
   ]
  },
  {
   "cell_type": "markdown",
   "metadata": {},
   "source": [
    "### Interpolation des déformations et contraintes\n",
    "Pour un élément poutre en flexion avec l'hypothèse de Bernoulli (contraintes de cisaillement négligés), la seule déformation généralisée utile est la courbure de la poutre $\\gamma(x) = \\frac{d\\theta}{dx}(x) = \\frac{d^2 v}{dx^2}(x) $.\n",
    "$$\\frac{d^2 v}{dx^2}(\\xi) = \\left[ \\begin{matrix} \\frac{12}{L^3}\\xi - \\frac{6}{L^2} & -\\frac{12}{L^3}\\xi + \\frac{6}{L^2} & \\frac{6}{L^2}\\xi - \\frac{4}{L} & \\frac{6}{L^2}\\xi - \\frac{2}{L} \\end{matrix} \\right] . \\left[ \\begin{matrix} v_i \\\\ v_j \\\\ \\theta_i \\\\ \\theta_j \\end{matrix} \\right] = B(\\xi) . q_{el}$$\n",
    "\n",
    "Pour en déduire le moment fléchissant dans la poutre, il convient d'utiliser la loi de comportement généralisée :\n",
    "$M_f = EI \\gamma$\n",
    "\n",
    "Nous définissons donc les fonction matricielles 'B' et 'StressMatrix' respectivement pour l'interpolation des déformations et des contraintes généralisées (moment fléchissant)."
   ]
  },
  {
   "cell_type": "code",
   "execution_count": 83,
   "metadata": {},
   "outputs": [],
   "source": [
    "def B(xi, L):\n",
    "    #return N''\n",
    "    return  np.array([[12/L**3*xi - 6/L**2 ,                            \n",
    "                      -12/L**3*xi + 6/L**2 ,\n",
    "                      6/L**2*xi - 4/L ,\n",
    "                      6/L**2*xi - 2/L]])\n",
    "    \n",
    "def StressMatrix(xi, L, x0, E, I):\n",
    "    x = xi+x0 #change of variable: local coordinate is transform into global coordinate to use the function S\n",
    "    #return flexural moment    \n",
    "    return E*I(xi+x0)*B(xi,L)"
   ]
  },
  {
   "cell_type": "markdown",
   "metadata": {},
   "source": [
    "Remarque : le changement de variable $x = \\xi+x_0$ est appliqué au moment quadratique pour passer du repère global au repère élémentaire."
   ]
  },
  {
   "cell_type": "markdown",
   "metadata": {},
   "source": [
    "## Matrice de rigidité élémentaire\n",
    "Pour calculer la matrice de rigidité élémentaire $K_{el}$, il faut revenir à la définition de l'énergie élastique.\n",
    "Pour des éléments poutres en flexion : \n",
    "$$E_d = \\frac{1}{2} \\int_{0}^{L} M_f(\\xi) \\gamma(\\xi) \\, d\\xi$$\n",
    "Et donc en utilisant les interpolations de $\\gamma$ et $M_f$ :\n",
    "$$E_d = q_{el}^T \\, \\frac{1}{2} \\underbrace{\\left( \\int_{0}^{L} EI \\, B(\\xi,L)^T . B(\\xi,L) \\, d\\xi \\right)}_{K_{el}} \\, q_{el} $$\n",
    "\n",
    "On commence par définir une fonction pour l'intégration basée sur la méthode des trapèzes dans un soucis de simplicité."
   ]
  },
  {
   "cell_type": "code",
   "execution_count": 84,
   "metadata": {},
   "outputs": [],
   "source": [
    "NumberOfIntegrationPoints = 10000\n",
    "\n",
    "def integrate(f, a, b, N):\n",
    "    x = np.linspace(a, b, N)\n",
    "    fx = f(x)\n",
    "    area = np.sum(fx,axis = 0)*(b-a)/N\n",
    "    return area"
   ]
  },
  {
   "cell_type": "markdown",
   "metadata": {},
   "source": [
    "Nous avons vu que $K_{el} = \\int_{0}^{L} dE(\\xi,L,E,I) \\, d\\xi$\n",
    "avec $dE = EI \\, B(\\xi,L)^T . B(\\xi,L)$.\n",
    "\n",
    "Nous définons donc la fonction dE que nous intégrons numériquement entre $0$ et $L$.\n",
    "Ces 2 étapes sont inclus dans la fonction GetElementStiffnessMatrix qui renvoit la matrice de rigidité $K_{el}$."
   ]
  },
  {
   "cell_type": "code",
   "execution_count": 85,
   "metadata": {},
   "outputs": [
    {
     "name": "stdout",
     "output_type": "stream",
     "text": [
      "[[ 0.94266631 -0.94266631  0.47133316  0.47133316]\n",
      " [-0.94266631  0.94266631 -0.47133316 -0.47133316]\n",
      " [ 0.47133316 -0.47133316  0.31420639  0.15712676]\n",
      " [ 0.47133316 -0.47133316  0.15712676  0.31420639]]\n"
     ]
    }
   ],
   "source": [
    "def GetElementStiffnessMatrix(L, x0, E, I, NumberOfIntegrationPoints):\n",
    "    def dE(xi):        \n",
    "        Sigma = np.transpose( StressMatrix(xi,L,x0,E,I) , (2,1,0) )\n",
    "        Epsilon = np.transpose( B(xi,L) , (2,0,1) )\n",
    "        return Sigma @ Epsilon #@ operator = stack of matrix multiplication\n",
    "    \n",
    "    return integrate(dE,0,L, NumberOfIntegrationPoints)\n",
    "\n",
    "Kel = GetElementStiffnessMatrix(L,0,E,I,NumberOfIntegrationPoints)\n",
    "print(Kel)"
   ]
  },
  {
   "cell_type": "code",
   "execution_count": 86,
   "metadata": {},
   "outputs": [
    {
     "name": "stdout",
     "output_type": "stream",
     "text": [
      "[[ 0.94266631 -0.94266631  0.47133316  0.47133316]\n",
      " [-0.94266631  0.94266631 -0.47133316 -0.47133316]\n",
      " [ 0.47133316 -0.47133316  0.31420639  0.15712676]\n",
      " [ 0.47133316 -0.47133316  0.15712676  0.31420639]]\n"
     ]
    }
   ],
   "source": [
    "Kel = GetElementStiffnessMatrix(L,0,E,I,NumberOfIntegrationPoints)\n",
    "print(Kel)"
   ]
  },
  {
   "cell_type": "markdown",
   "metadata": {},
   "source": [
    "## Assemblage de la matrice de rigidité globale"
   ]
  },
  {
   "cell_type": "markdown",
   "metadata": {},
   "source": [
    "L'assemblage de la matrice globale se fait simplement avec une boucle sur les éléments en ajoutant la contribution de chaque élément aux noeuds correspondants. "
   ]
  },
  {
   "cell_type": "code",
   "execution_count": 87,
   "metadata": {},
   "outputs": [
    {
     "name": "stdout",
     "output_type": "stream",
     "text": [
      "[[ 0.03491357 -0.03491357  0.05237035  0.05237035]\n",
      " [-0.03491357  0.03491357 -0.05237035 -0.05237035]\n",
      " [ 0.05237035 -0.05237035  0.10473546  0.05237559]\n",
      " [ 0.05237035 -0.05237035  0.05237559  0.10473546]]\n"
     ]
    }
   ],
   "source": [
    "#Assemble the global stiffness matrix\n",
    "NumberOfDOF = 2*NumberOfNodes #2 dof per node: 2 displacements and 2 rotations\n",
    "StiffnessMatrix = np.zeros((NumberOfDOF, NumberOfDOF)) \n",
    "for element in range(NumberOfElements):\n",
    "    Nodes = ConnectionMatrix[element]   \n",
    "    Crd = NodeCoordinates[Nodes]\n",
    "    L = Crd[-1] - Crd[0]    \n",
    "    x0 = Crd[0]\n",
    "    DOF = np.hstack((Nodes, Nodes+NumberOfNodes)) #Degree of freedom: 2 displacements and 2 rotations\n",
    "    Kel = GetElementStiffnessMatrix(L,x0,E,I,NumberOfIntegrationPoints) \n",
    "    StiffnessMatrix[DOF.reshape(-1,1), DOF] += Kel   \n",
    "\n",
    "print(StiffnessMatrix)"
   ]
  },
  {
   "cell_type": "markdown",
   "metadata": {},
   "source": [
    "## Matrice colonne des efforts généralisés\n"
   ]
  },
  {
   "cell_type": "markdown",
   "metadata": {},
   "source": [
    "Pour les efforts généralisées, on distingue les efforts ponctuels aux noeuds des efforts linéiques.\n",
    "On commence par initialiser un vecteur 'ForceVector' contenant uniquement les efforts aux noeuds (ici, un seul effort ponctuel sur le dernier noeuds (noeud 4). "
   ]
  },
  {
   "cell_type": "code",
   "execution_count": 88,
   "metadata": {},
   "outputs": [],
   "source": [
    "ForceVector = np.zeros(NumberOfDOF)\n",
    "ForceVector[NumberOfNodes-1] = F"
   ]
  },
  {
   "cell_type": "markdown",
   "metadata": {},
   "source": [
    "Pour les efforts linéiques, il faut revenir à la définition du travail des efforts exterieurs sur un élément. \n",
    "$$W_{ext} = \\int_{0}^{L} f_l(x) v(\\xi) \\, d\\xi$$\n",
    "Et donc en utilisant l'interpolation de $v(x)$:\n",
    "$$W_{ext} = q_{el}^T \\, \\underbrace{\\left( \\int_{0}^{L} N(\\xi,L)^T . f_l(\\xi+x_0) \\, d\\xi \\right)}_{F_{el}}  $$\n",
    "\n",
    "Comme pour la matrice de rigidité globale, nous définissons une fonction $dF = N(\\xi,L)^T . f_l(\\xi+x0)$ que nous intégrons sur chaque élément pour avoir $F_{el}$, puis nous sommons les contributions de chaque éléments dans une matrice colonne globale (matrice des efforts généralisés). "
   ]
  },
  {
   "cell_type": "code",
   "execution_count": 89,
   "metadata": {},
   "outputs": [
    {
     "name": "stdout",
     "output_type": "stream",
     "text": [
      "[ 0. -1.  0.  0.]\n"
     ]
    }
   ],
   "source": [
    "#Assemble force vector\n",
    "for element in range(NumberOfElements):\n",
    "    Nodes = ConnectionMatrix[element]   \n",
    "    Crd = NodeCoordinates[Nodes]\n",
    "    L = Crd[-1] - Crd[0]\n",
    "    x0 = Crd[0]\n",
    "    DOF = np.hstack((Nodes, Nodes+NumberOfNodes)) #Degree of freedom: 2 displacements and 2 rotations\n",
    "\n",
    "    def dF(xi):\n",
    "        return (fl(xi+x0)*N(xi,L)[0]).T\n",
    "        \n",
    "    Fel = integrate(dF, 0, L, NumberOfIntegrationPoints)\n",
    "    ForceVector[DOF] += Fel #[0]  \n",
    "    \n",
    "print(ForceVector)"
   ]
  },
  {
   "cell_type": "markdown",
   "metadata": {},
   "source": [
    "## Conditions aux limites et résolution\n",
    "On définit une matrice G telle que les conditions aux limites s'écrivent : $G q = Q_d$.\n",
    "Ici nous avons uniquement le premier noeud (noeud 0) qui est bloqué : $v_0=\\theta_0=0$."
   ]
  },
  {
   "cell_type": "code",
   "execution_count": 90,
   "metadata": {},
   "outputs": [
    {
     "name": "stdout",
     "output_type": "stream",
     "text": [
      "[[1. 0. 0. 0.]\n",
      " [0. 0. 1. 0.]]\n",
      "[0 0]\n"
     ]
    }
   ],
   "source": [
    "G = np.zeros((2,NumberOfDOF))\n",
    "G[0,0] = G[1, NumberOfNodes] = 1\n",
    "Qd = np.array([0,0]) \n",
    "print(G)\n",
    "print(Qd)\n",
    "\n",
    "\n"
   ]
  },
  {
   "cell_type": "markdown",
   "metadata": {},
   "source": [
    "On construit ensuite le système à résoudre : $M q = V$. \n",
    "Les conditions aux limites sont appliquées avec la méthode des multiplicateurs de Lagrange."
   ]
  },
  {
   "cell_type": "code",
   "execution_count": 91,
   "metadata": {},
   "outputs": [],
   "source": [
    "nbCL = np.shape(G)[0]\n",
    "M = np.block([[StiffnessMatrix, -G.T],[G, np.zeros((nbCL, nbCL))]])\n",
    "#print(M)"
   ]
  },
  {
   "cell_type": "code",
   "execution_count": 92,
   "metadata": {},
   "outputs": [],
   "source": [
    "V = np.block([ForceVector, Qd])\n",
    "#print(V)"
   ]
  },
  {
   "cell_type": "markdown",
   "metadata": {},
   "source": [
    "le système est résolu par une méthode directe (pivot de Gauss). Pour les grands systèmes creux, l'utilisation d'une méthode itérative est en général plus efficace. "
   ]
  },
  {
   "cell_type": "code",
   "execution_count": 93,
   "metadata": {},
   "outputs": [
    {
     "name": "stdout",
     "output_type": "stream",
     "text": [
      "[[ 0.03491357 -0.03491357  0.05237035  0.05237035 -1.         -0.        ]\n",
      " [-0.03491357  0.03491357 -0.05237035 -0.05237035 -0.         -0.        ]\n",
      " [ 0.05237035 -0.05237035  0.10473546  0.05237559 -0.         -1.        ]\n",
      " [ 0.05237035 -0.05237035  0.05237559  0.10473546 -0.         -0.        ]\n",
      " [ 1.          0.          0.          0.          0.          0.        ]\n",
      " [ 0.          0.          1.          0.          0.          0.        ]]\n",
      "[ 0. -1.  0.  0.  0.  0.]\n",
      "[   0.         -114.58583002]\n"
     ]
    }
   ],
   "source": [
    "nbCL = np.shape(G)[0]\n",
    "M = np.block([[StiffnessMatrix, -G.T],[G, np.zeros((nbCL, nbCL))]])\n",
    "print(M)\n",
    "V = np.block([ForceVector, Qd])\n",
    "print(V)\n",
    "\n",
    "res  = np.linalg.solve(M, V)\n",
    "U = res[:NumberOfNodes]\n",
    "Theta= res[NumberOfNodes:2*NumberOfNodes]\n",
    "R = res[2*NumberOfNodes:]\n",
    "print(U) #Nodal displacement\n",
    "#print(Theta) #Nodal rotation \n",
    "#print(R) #Force and Moment Reaction"
   ]
  },
  {
   "cell_type": "markdown",
   "metadata": {},
   "source": [
    "## Visualisation\n",
    "### Visualisation du déplacement\n"
   ]
  },
  {
   "cell_type": "code",
   "execution_count": 94,
   "metadata": {
    "scrolled": true
   },
   "outputs": [
    {
     "data": {
      "text/plain": [
       "<matplotlib.legend.Legend at 0x1c7440dc408>"
      ]
     },
     "execution_count": 94,
     "metadata": {},
     "output_type": "execute_result"
    },
    {
     "data": {
      "image/png": "[encoded data removed]",
      "text/plain": [
       "<Figure size 432x288 with 1 Axes>"
      ]
     },
     "metadata": {
      "needs_background": "light"
     },
     "output_type": "display_data"
    }
   ],
   "source": [
    "#Reference solution (only for constant section)\n",
    "x = np.linspace(0, H, 10*NumberOfElements)\n",
    "if LoadCondition == 0:\n",
    "    plt.plot(x, fl(x)*((H-x)**4 + 4*H**3*x-H**4)/(24*E*I(x)), label='sol_Ref')\n",
    "#elif LoadCondition == 1:\n",
    "#    plt.plot(x, fl(x)*x**2*(20*H**3-10*H**2*x+x**3)/(120*E*I(x)*H), label='sol_Ref')\n",
    "elif LoadCondition == 1:\n",
    "    a = (fl(H)-fl(0))/H ; b = fl(0)\n",
    "    plt.plot(x, (a/120*x**5 + b/24*x**4 - (a*H**2/12+b*H/6)*x**3 + (a*H**3/6 + b*H**2/4)*x**2)/(E*I(x)), label='sol_Ref')\n",
    "elif LoadCondition == 2: \n",
    "    plt.plot(x, F*x**2*(3*H-x)/(6*E*I(x)), label='sol_Ref')\n",
    "\n",
    "#FE solution\n",
    "xi = np.linspace(0, L, 10)\n",
    "x_all = []\n",
    "u_y = []\n",
    "for element in range(NumberOfElements):\n",
    "    Nodes = ConnectionMatrix[element] \n",
    "    DOF = np.hstack((Nodes, Nodes+NumberOfNodes)) #Degree of freedom: 2 displacements and 2 rotations\n",
    "    Crd = NodeCoordinates[Nodes]\n",
    "    L = Crd[-1]-Crd[0]\n",
    "    x = np.linspace(Crd[0], Crd[-1], 10)\n",
    "    u_y = np.hstack((u_y, (N(xi, L).transpose(2,0,1)@res[DOF])[:,0]))\n",
    "    x_all = np.hstack((x_all, x))\n",
    "\n",
    "plt.plot(x_all, u_y, label='sol_EF')\n",
    "plt.xlabel('x')\n",
    "plt.ylabel('V')\n",
    "plt.legend()\n"
   ]
  },
  {
   "cell_type": "markdown",
   "metadata": {},
   "source": [
    "### Visualisation du moment de flexion"
   ]
  },
  {
   "cell_type": "code",
   "execution_count": 95,
   "metadata": {},
   "outputs": [
    {
     "data": {
      "text/plain": [
       "<matplotlib.legend.Legend at 0x1c74513b5c8>"
      ]
     },
     "execution_count": 95,
     "metadata": {},
     "output_type": "execute_result"
    },
    {
     "data": {
      "image/png": "[encoded data removed]",
      "text/plain": [
       "<Figure size 432x288 with 1 Axes>"
      ]
     },
     "metadata": {
      "needs_background": "light"
     },
     "output_type": "display_data"
    }
   ],
   "source": [
    "#Reference solution (only for constant section)\n",
    "x = np.linspace(0, H, 10*NumberOfElements)\n",
    "if LoadCondition == 0:\n",
    "    plt.plot(x, fl(x)*12*(H-x)**2/24, label='sol_Ref')\n",
    "       \n",
    "elif LoadCondition == 1:\n",
    "    a = (fl(H)-fl(0))/H ; b = fl(0)\n",
    "    plt.plot(x, a/3*(H**3-x**3) + (b-a*x)/2*(H**2-x**2) - x*b*(H-x), label='sol_Ref')\n",
    "\n",
    "elif LoadCondition == 2: \n",
    "    plt.plot(x, F*(H-x) , label='sol_Ref')\n",
    "\n",
    "\n",
    "#FE solution\n",
    "xi = np.linspace(0, L, 10)\n",
    "x_all = []\n",
    "sigma_x = []\n",
    "for element in range(NumberOfElements):\n",
    "    Nodes = ConnectionMatrix[element]   \n",
    "    DOF = np.hstack((Nodes, Nodes+NumberOfNodes)) #Degree of freedom: 2 displacements and 2 rotations    \n",
    "    Crd = NodeCoordinates[Nodes]\n",
    "    L = Crd[-1]-Crd[0]\n",
    "    x0 = Crd[0]\n",
    "    x = np.linspace(Crd[0], Crd[-1], 10)\n",
    "    sigma_x = np.hstack((sigma_x, (StressMatrix(xi, L,x0,  E, I).transpose(2,0,1)@res[DOF])[:,0]))\n",
    "    x_all = np.hstack((x_all, x))\n",
    "\n",
    "plt.plot(x_all, sigma_x, label='sol_EF')\n",
    "plt.xlabel('x')\n",
    "plt.ylabel('Flexural Moment')\n",
    "plt.legend()"
   ]
  },
  {
   "cell_type": "markdown",
   "metadata": {},
   "source": [
    "## Pour aller plus loin\n",
    "* Modifier le nombre de noeuds et relancer le calcul pour observer la convergence des résultats vers la solution analytique."
   ]
  }
 ],
 "metadata": {
  "kernelspec": {
   "display_name": "Python 3 (ipykernel)",
   "language": "python",
   "name": "python3"
  },
  "language_info": {
   "codemirror_mode": {
    "name": "ipython",
    "version": 3
   },
   "file_extension": ".py",
   "mimetype": "text/x-python",
   "name": "python",
   "nbconvert_exporter": "python",
   "pygments_lexer": "ipython3",
   "version": "3.8.12"
  }
 },
 "nbformat": 4,
 "nbformat_minor": 2
}
