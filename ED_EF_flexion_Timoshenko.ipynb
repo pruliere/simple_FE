{
 "cells": [
  {
   "cell_type": "markdown",
   "metadata": {},
   "source": [
    "# Résolution d'un problème de flexion d'un poteau par éléments finis - Modèle de Timoshenko\n",
    "Exemple vu en ED éléments finis - Mécanique des solides déformations \n",
    "\n",
    "@Arts et Métiers - Campus de Bordeaux"
   ]
  },
  {
   "cell_type": "markdown",
   "metadata": {},
   "source": [
    "## Choix d’une modélisation\n",
    "On souhaite étudier la tenue mécanique d’un poteau en acier (S185 galvanisé) soumis à l'action du vent.\n",
    "Ce poteau fait une hauteur H. Il est tubulaire : sa section droite est circulaire et creuse, de rayon extérieur r et d’épaisseur e constants.\n",
    "\n",
    "L'action du vent est modélisée par un efort linéique à ditribution linéaire : \n",
    "$\\vec{f_l} = \\frac{f_l}{H}x \\vec{y}$ .\n",
    "La liaison entre le poteau et le sol est modélisée par un encastrement.\n",
    "\n",
    "On suppose que le matériau est homogène et isotrope. Ses propriétés élastiques sont données par le module d’Young $E$, le coefficient de Poisson $\\nu$, et la limite d’élasticité $Re$. Sa masse volumique est notée $\\rho$.\n",
    "Le cadre d’application est celui des Petites Perturbations.\n",
    "\n",
    "Données : $H$ = 5m, $r$ = 15cm, $e$ = 5mm, $E$ = 210GPa, $\\nu$ = 0.285, $Re$ = 185MPa, $\\rho$ = 7850kg/m3.\n",
    "\n",
    "Remarque : \n",
    "* Dans le code, certains paramètres sont définis comme des fonctions pour pouvoir les remplacer par des valeurs variables le long de la poutre. \n",
    "* Plusieurs conditions de chargement ont été prédéfinies. Le cas de chargement peut être modifié en changeant la variable 'LoadCondition'.\n"
   ]
  },
  {
   "cell_type": "code",
   "execution_count": 1,
   "metadata": {},
   "outputs": [],
   "source": [
    "import numpy as np\n",
    "from matplotlib import pylab as plt\n",
    "\n",
    "H = 5\n",
    "E = 210e9 #Young Modulus\n",
    "nu = 0.285 #poisson Ratio\n",
    "F = -1000 #point force at the high end of the beam\n",
    "\n",
    "# the following function are given in function of the global coordinate x\n",
    "def r(x): return 0.15 # Constant section radius\n",
    "#def r(x): return 0.20*(1-x/H)+ 0.10*x/H # Variale section radius\n",
    "def e(x): return 0.005 #Section thickness\n",
    "def S(x): return np.pi * (r(x)**2 - (r(x)-e(x))**2)  #Section Area\n",
    "def I(x): return np.pi/4 * (r(x)**4 - (r(x)-e(x))**4)  #Section Area\n",
    "\n",
    "LoadCondition = 1\n",
    "if LoadCondition == 0:\n",
    "    #Constant lineic force    \n",
    "    F = 0\n",
    "    def fl(x): return -100 #lineic force \n",
    "elif LoadCondition == 1: \n",
    "    #Variable lineic force (with constant derivative)\n",
    "    F = 0\n",
    "    def fl(x): \n",
    "        a = 100/H ; b = 0\n",
    "        return a*x+b\n",
    "elif LoadCondition == 2: \n",
    "    F=1000 #point force at the high end of the beam\n",
    "    #node force on the top extremity\n",
    "    def fl(x): return 0        \n"
   ]
  },
  {
   "cell_type": "markdown",
   "metadata": {},
   "source": [
    "## Choix d'une discrétisation\n",
    "Afin de résoudre ce problème par la méthode des éléments finis, on choisit de discrétiser la poutre ci-dessus en 3 éléments de longueur L identiques : poutres à deux nœuds avec 2 degrés de liberté par noeud (déplacement $v$ suivant $y$ et rotation $\\theta$ suivant $\\vec{z}$).\n",
    "Il y aura ainsi 4 noeuds au total. La position des noeuds suivant $\\vec{x}$ est déterminé avec la fonction linspace de numpy."
   ]
  },
  {
   "cell_type": "code",
   "execution_count": 2,
   "metadata": {},
   "outputs": [
    {
     "name": "stdout",
     "output_type": "stream",
     "text": [
      "[0.   0.25 0.5  0.75 1.   1.25 1.5  1.75 2.   2.25 2.5  2.75 3.   3.25\n",
      " 3.5  3.75 4.   4.25 4.5  4.75 5.  ]\n"
     ]
    }
   ],
   "source": [
    "xmin = 0\n",
    "xmax = H\n",
    "NumberOfElements = 3\n",
    "\n",
    "TypeElement = 'Beam2' #can be either 'Beam2', 'Beam3' or 'Beam2+'\n",
    "\n",
    "if TypeElement == 'Beam2' or TypeElement =='Beam2+': NumberOfNodes = NumberOfElements + 1\n",
    "elif TypeElement == 'Beam3': \n",
    "    NumberOfNodes = 2*NumberOfElements + 1\n",
    "else: raise NameError('TypeElement should be Beam2 or Beam3')\n",
    "       \n",
    "NodeCoordinates = np.linspace(xmin,xmax,NumberOfNodes)\n",
    "print(NodeCoordinates)"
   ]
  },
  {
   "cell_type": "markdown",
   "metadata": {},
   "source": [
    "Pour définir les 3 éléments, il convient de créer une matrice de connection dont les lignes sont les numéros des noeuds appartenant aux éléments (nombre de lignes = nombre d'éléments)"
   ]
  },
  {
   "cell_type": "code",
   "execution_count": 3,
   "metadata": {},
   "outputs": [
    {
     "name": "stdout",
     "output_type": "stream",
     "text": [
      "[[ 0  1  2]\n",
      " [ 2  3  4]\n",
      " [ 4  5  6]\n",
      " [ 6  7  8]\n",
      " [ 8  9 10]\n",
      " [10 11 12]\n",
      " [12 13 14]\n",
      " [14 15 16]\n",
      " [16 17 18]\n",
      " [18 19 20]]\n"
     ]
    }
   ],
   "source": [
    "if TypeElement == 'Beam2' or TypeElement =='Beam2+':\n",
    "    ConnectionMatrix = np.c_[(np.arange(NumberOfNodes-1), np.arange(1,NumberOfNodes))]\n",
    "elif TypeElement == 'Beam3':\n",
    "    ConnectionMatrix = np.c_[(np.arange(0,NumberOfNodes-2,2), np.arange(1,NumberOfNodes-1,2),np.arange(2,NumberOfNodes,2))]\n",
    "    \n",
    "print(ConnectionMatrix)"
   ]
  },
  {
   "cell_type": "markdown",
   "metadata": {},
   "source": [
    "## Champs de déplacement de déformation et de contraintes approchés \n",
    "### Interpolation du champ de déplacement\n",
    "Pour la méthode des éléments finis, il faut commencer par définir une fonction d'interpolation sur chaque élément.\n",
    "Pour un élément poutre basé sur le modèle de Timoshenko il faut définir une interpolation pour le déplacement $v$ et une interpolation pour les rotations de section $\\theta$. Pour un élément de longueur $L$ sur l'intervale $[0,L]$, le déplacement et la rotation de section sont interpolés par : \n",
    "$$\\left[ \\begin{matrix} v(\\xi) \\\\ \\theta(\\xi) \\end{matrix} \\right] = \\left[ \\begin{matrix} 1-\\frac{\\xi}{L} & \\frac{\\xi}{L} & 0 & 0 \\\\ 0 & 0 & 1-\\frac{\\xi}{L} & \\frac{\\xi}{L} \\end{matrix} \\right] . \\left[ \\begin{matrix} v_i \\\\ v_j \\\\ \\theta_i \\\\ \\theta_j \\end{matrix} \\right] = \\underbrace{\\left[ \\begin{matrix} N_v(\\xi) \\\\ N_\\theta(\\xi) \\end{matrix}\\right]}_{N(\\xi)} . q_{el}$$\n",
    "$\\xi$ est la coordonnée définie dans le repère élémentaire. Pour passer du repère élémentaire au repère gobal, il suffit de faire le changement de variable $x = \\xi+x_0$ avec $x_0$ l'absisse de l'origine du repère élémentaire.\n",
    "\n",
    "La fonction $N(\\xi, L)$ est donc créée pour l'interpolation du champ de déplacement et de rotation. Si $\\xi$ et $L$ sont des scalaires, $N(\\xi, L)$ renvoie une matrice ligne. Si $\\xi$ est un numpy array de dimension 1, $N$ retourne un tableau de dimension 3 contenant toutes les valeurs de $N$ pour les position $\\xi$ données."
   ]
  },
  {
   "cell_type": "code",
   "execution_count": 4,
   "metadata": {},
   "outputs": [],
   "source": [
    "if TypeElement == 'Beam2':\n",
    "    def N(xi,L):\n",
    "        #1st line is displacement, second line is rotation\n",
    "        return np.array([[1-xi/L, xi/L,0*xi, 0*xi], \n",
    "                         [0*xi, 0*xi, 1-xi/L, xi/L]])\n",
    "elif TypeElement == 'Beam2+':\n",
    "    def N(xi,L):\n",
    "        #1st line is displacement, second line is rotation\n",
    "        return np.array([[1-xi/L, xi/L, 0*xi, 0*xi, 4/L*xi*(1-xi/L)], \n",
    "                         [0*xi, 0*xi, 1-xi/L, xi/L, 0*xi]])\n",
    "elif TypeElement == 'Beam3':\n",
    "    def N(xi,L):\n",
    "        #1st line is displacement, second line is rotation\n",
    "        return np.array([[2/L**2*xi**2-3/L*xi+1, 4/L*xi*(1-xi/L) , 2/L**2*xi**2-1/L*xi, 0*xi, 0*xi, 0*xi], \n",
    "                         [0*xi, 0*xi, 0*xi, 2/L**2*xi**2-3/L*xi+1, 4/L*xi*(1-xi/L) , 2/L**2*xi**2-1/L*xi]])"
   ]
  },
  {
   "cell_type": "markdown",
   "metadata": {},
   "source": [
    "### Visualisations les fonctions de forme en utilisant la fonction plot de matplotlib. "
   ]
  },
  {
   "cell_type": "code",
   "execution_count": 5,
   "metadata": {
    "scrolled": true
   },
   "outputs": [
    {
     "data": {
      "text/plain": [
       "<matplotlib.legend.Legend at 0x2155db6c7f0>"
      ]
     },
     "execution_count": 5,
     "metadata": {},
     "output_type": "execute_result"
    },
    {
     "data": {
      "image/png": "[encoded data removed]",
      "text/plain": [
       "<Figure size 432x288 with 1 Axes>"
      ]
     },
     "metadata": {
      "needs_background": "light"
     },
     "output_type": "display_data"
    }
   ],
   "source": [
    "NumberOfPointsToPlot = 50\n",
    "L=1\n",
    "xi = np.linspace(0, L, NumberOfPointsToPlot)\n",
    "plt.figure()\n",
    "plt.plot(xi, N(xi,L)[0,0,:], label='N_{vi}')\n",
    "plt.plot(xi, N(xi,L)[0,1,:], label='N_{vj}')\n",
    "\n",
    "if TypeElement =='Beam2+':\n",
    "    plt.plot(xi, N(xi,L)[0,-1,:], label='N_{vk}')\n",
    "\n",
    "if TypeElement == 'Beam3':\n",
    "    plt.plot(xi, N(xi,L)[0,2,:], label='N_{vk}')\n",
    "    \n",
    "plt.xlabel('xi')\n",
    "plt.ylabel('N(xi)')\n",
    "plt.legend()"
   ]
  },
  {
   "cell_type": "markdown",
   "metadata": {},
   "source": [
    "### Interpolation des déformations et contraintes\n",
    "Pour un élément poutre en flexion basé sur le modèle de Timoshenko, les déformations généralisées utiles sont la courbure de flexion $\\chi(x) = \\frac{d\\theta}{dx}(x)$ et l'angle de glissement des sections droites $\\gamma(x) = \\frac{dv}{dx}-\\theta$.\n",
    "$$\\left[ \\begin{matrix} \\frac{d\\theta}{d\\xi} \\\\  \\frac{dv}{d\\xi}-\\theta \\end{matrix} \\right] = \\left[ \\begin{matrix} 0 & 0 & -\\frac{1}{L} & \\frac{1}{L} \\\\ -\\frac{1}{L} & \\frac{1}{L} & -1+\\frac{\\xi}{L} & -\\frac{\\xi}{L} \\end{matrix} \\right] . \\left[ \\begin{matrix} v_i \\\\ v_j \\\\ \\theta_i \\\\ \\theta_j \\end{matrix} \\right] = B(\\xi) . q_{el}$$\n",
    "\n",
    "Pour en déduire le moment fléchissant et l'effort tranchant dans la poutre, il convient d'utiliser la loi de comportement généralisée :\n",
    "\n",
    "$M_f = EI \\chi$ et $T = \\mu S \\gamma$\n",
    "\n",
    "où $S$ est la section réduite et $\\mu = \\frac{E}{2(1+\\nu)}$ est le module de cisaillement. \n",
    "$$ \\left[ \\begin{matrix} M_f \\\\ T \\end{matrix} \\right] = \\underbrace{\\left[ \\begin{matrix} E I & 0 \\\\ 0 & \\mu S \\end{matrix} \\right]}_D B(\\xi) . q_{el} $$ \n",
    "\n",
    "Nous définissons donc les fonction matricielles 'B' et 'StressMatrix' respectivement pour l'interpolation des déformations et des contraintes généralisées (moment fléchissant et effort tranchant)."
   ]
  },
  {
   "cell_type": "code",
   "execution_count": 6,
   "metadata": {},
   "outputs": [],
   "source": [
    "if TypeElement == 'Beam2':\n",
    "    def B(xi, L):\n",
    "        #return : \n",
    "        # * chi=dtheta/dx (1rst line) \n",
    "        # * gamma=dv/dx-theta (2nd line)\n",
    "        return  np.array([[     0*xi,     0*xi, -1/L+0*xi, 1/L+0*xi ],\n",
    "                          [-1/L+0*xi, 1/L+0*xi, -1+xi/L  , -xi/L ]])\n",
    "\n",
    "elif TypeElement == 'Beam2+':\n",
    "    def B(xi, L):\n",
    "        #return : \n",
    "        # * chi=dtheta/dx (1rst line) \n",
    "        # * gamma=dv/dx-theta (2nd line)\n",
    "        return  np.array([[     0*xi,     0*xi, -1/L+0*xi, 1/L+0*xi, 0*xi ],\n",
    "                          [-1/L+0*xi, 1/L+0*xi, -1+xi/L  ,    -xi/L, 4/L*(1-2*xi/L) ]])\n",
    "\n",
    "elif TypeElement == 'Beam3':\n",
    "    def B(xi, L):\n",
    "        #return : \n",
    "        # * chi=dtheta/dx (1rst line) \n",
    "        # * gamma=dv/dx-theta (2nd line)\n",
    "        return  np.array([[     0*xi,     0*xi, 0*xi, 4/L**2*xi-3/L, 4/L*(1-2*xi/L), 4/L**2*xi-1/L],\n",
    "                          [4/L**2*xi-3/L, 4/L*(1-2*xi/L), 4/L**2*xi-1/L, -2/L**2*xi**2+3/L*xi-1, -4/L*xi*(1-xi/L) , -2/L**2*xi**2+1/L*xi]])\n",
    "    \n",
    "\n",
    "def StressMatrix(xi, L, x0, E, I, nu, S):\n",
    "    x = xi+x0 #change of variable: local coordinate is transform into global coordinate to use the function S\n",
    "    #return flexural moment and shear force  \n",
    "    #Shear Modulus = 0.5*E/(1+nu)        \n",
    "    #StressMatrix[0] return the flexural moment\n",
    "    #StressMatrix[1] return the shear force\n",
    "    return np.array( [E*I(xi+x0)*B(xi,L)[0],\n",
    "                      0.5*E/(1+nu)*S(xi+x0)*B(xi,L)[1]])"
   ]
  },
  {
   "cell_type": "markdown",
   "metadata": {},
   "source": [
    "Remarque : le changement de variable $x = \\xi+x_0$ est appliqué au moment quadratique pour passer du repère global au repère élémentaire."
   ]
  },
  {
   "cell_type": "markdown",
   "metadata": {},
   "source": [
    "## Matrice de rigidité élémentaire\n",
    "Pour calculer la matrice de rigidité élémentaire $K_{el}$, il faut revenir à la définition de l'énergie élastique.\n",
    "Pour des éléments poutres en flexion/cisaillement dans le plan : \n",
    "$$E_d = \\frac{1}{2} \\int_{0}^{L} ( M_f(\\xi) \\chi(\\xi) + T(\\xi) \\gamma(\\xi) ) \\, d\\xi$$\n",
    "Et donc en utilisant les interpolations de $\\gamma$ et $M_f$ :\n",
    "$$E_d = q_{el}^T \\, \\frac{1}{2} \\underbrace{\\left( \\int_{0}^{L} B(\\xi,L)^T . D . B(\\xi,L) \\, d\\xi \\right)}_{K_{el}} \\, q_{el} $$\n",
    "\n",
    "On commence par définir une fonction pour l'intégration basée sur la méthode des trapèzes dans un soucis de simplicité."
   ]
  },
  {
   "cell_type": "code",
   "execution_count": 7,
   "metadata": {},
   "outputs": [],
   "source": [
    "NumberOfIntegrationPoints = 500\n",
    "\n",
    "def integrate(f, a, b, N):\n",
    "    x = np.linspace(a, b, N)\n",
    "    fx = f(x)\n",
    "    area = np.sum(fx,axis = 0)*(b-a)/N\n",
    "    return area"
   ]
  },
  {
   "cell_type": "markdown",
   "metadata": {},
   "source": [
    "Nous avons vu que $K_{el} = \\int_{0}^{L} dE(\\xi,L,E,I,\\nu,S) \\, d\\xi$\n",
    "avec $dE = B(\\xi,L)^T . D . B(\\xi,L)$.\n",
    "\n",
    "Nous définissons donc la fonction dE que nous intégrons numériquement entre $0$ et $L$.\n",
    "Ces 2 étapes sont inclus dans la fonction GetElementStiffnessMatrix qui renvoit la matrice de rigidité $K_{el}$."
   ]
  },
  {
   "cell_type": "code",
   "execution_count": 8,
   "metadata": {},
   "outputs": [
    {
     "name": "stdout",
     "output_type": "stream",
     "text": [
      "[[ 8.85520001e+08 -1.01375726e+09  1.28237258e+08  1.90079486e+08\n",
      "   2.51921714e+08 -6.33598287e+07]\n",
      " [-1.01375726e+09  2.02751452e+09 -1.01375726e+09 -2.53439315e+08\n",
      "   3.88547778e-08  2.53439315e+08]\n",
      " [ 1.28237258e+08 -1.01375726e+09  8.85520001e+08  6.33598287e+07\n",
      "  -2.51921714e+08 -1.90079486e+08]\n",
      " [ 1.90079486e+08 -2.53439315e+08  6.33598287e+07  7.55273461e+07\n",
      "  -3.15776495e+06 -9.00975248e+06]\n",
      " [ 2.51921714e+08  4.03001904e-08 -2.51921714e+08 -3.15776495e+06\n",
      "   2.58237244e+08 -3.15776495e+06]\n",
      " [-6.33598287e+07  2.53439315e+08 -1.90079486e+08 -9.00975248e+06\n",
      "  -3.15776495e+06  7.55273461e+07]]\n"
     ]
    }
   ],
   "source": [
    "def GetElementStiffnessMatrix(L, x0, E, I, nu, S, NumberOfIntegrationPoints):\n",
    "    def dE(xi):        \n",
    "        Sigma = np.transpose( StressMatrix(xi,L,x0,E,I, nu, S) , (2,1,0) )\n",
    "        Epsilon = np.transpose( B(xi,L) , (2,0,1) )\n",
    "        return Sigma @ Epsilon #@ operator = stack of matrix multiplication\n",
    "    \n",
    "    return integrate(dE,0,L, NumberOfIntegrationPoints)\n",
    "\n",
    "Kel = GetElementStiffnessMatrix(L,0,E,I,nu, S, NumberOfIntegrationPoints)\n",
    "print(Kel)"
   ]
  },
  {
   "cell_type": "code",
   "execution_count": 9,
   "metadata": {},
   "outputs": [
    {
     "name": "stdout",
     "output_type": "stream",
     "text": [
      "[[ 8.85520001e+08 -1.01375726e+09  1.28237258e+08  1.90079486e+08\n",
      "   2.51921714e+08 -6.33598287e+07]\n",
      " [-1.01375726e+09  2.02751452e+09 -1.01375726e+09 -2.53439315e+08\n",
      "   3.88547778e-08  2.53439315e+08]\n",
      " [ 1.28237258e+08 -1.01375726e+09  8.85520001e+08  6.33598287e+07\n",
      "  -2.51921714e+08 -1.90079486e+08]\n",
      " [ 1.90079486e+08 -2.53439315e+08  6.33598287e+07  7.55273461e+07\n",
      "  -3.15776495e+06 -9.00975248e+06]\n",
      " [ 2.51921714e+08  4.03001904e-08 -2.51921714e+08 -3.15776495e+06\n",
      "   2.58237244e+08 -3.15776495e+06]\n",
      " [-6.33598287e+07  2.53439315e+08 -1.90079486e+08 -9.00975248e+06\n",
      "  -3.15776495e+06  7.55273461e+07]]\n"
     ]
    }
   ],
   "source": [
    "Kel = GetElementStiffnessMatrix(L,0,E,I,nu, S, NumberOfIntegrationPoints)\n",
    "print(Kel)"
   ]
  },
  {
   "cell_type": "markdown",
   "metadata": {},
   "source": [
    "## Assemblage de la matrice de rigidité globale"
   ]
  },
  {
   "cell_type": "markdown",
   "metadata": {},
   "source": [
    "L'assemblage de la matrice globale se fait simplement avec une boucle sur les éléments en ajoutant la contribution de chaque élément aux noeuds correspondants. "
   ]
  },
  {
   "cell_type": "code",
   "execution_count": 10,
   "metadata": {},
   "outputs": [
    {
     "name": "stdout",
     "output_type": "stream",
     "text": [
      "[[ 1.77104000e+09 -2.02751452e+09  2.56474516e+08 ...  0.00000000e+00\n",
      "   0.00000000e+00  0.00000000e+00]\n",
      " [-2.02751452e+09  4.05502904e+09 -2.02751452e+09 ...  0.00000000e+00\n",
      "   0.00000000e+00  0.00000000e+00]\n",
      " [ 2.56474516e+08 -2.02751452e+09  3.54208000e+09 ...  0.00000000e+00\n",
      "   0.00000000e+00  0.00000000e+00]\n",
      " ...\n",
      " [ 0.00000000e+00  0.00000000e+00  0.00000000e+00 ...  1.49817548e+08\n",
      "  -4.41031800e+07  8.74320076e+05]\n",
      " [ 0.00000000e+00  0.00000000e+00  0.00000000e+00 ... -4.41031800e+07\n",
      "   2.14167217e+08 -4.41031800e+07]\n",
      " [ 0.00000000e+00  0.00000000e+00  0.00000000e+00 ...  8.74320076e+05\n",
      "  -4.41031800e+07  7.49087742e+07]]\n"
     ]
    }
   ],
   "source": [
    "#Assemble the global stiffness matrix\n",
    "if TypeElement == 'Beam2' or TypeElement == 'Beam3':\n",
    "    NumberOfDOF = 2*NumberOfNodes #2 dof per node: 2 displacements and 2 rotations\n",
    "elif TypeElement == 'Beam2+':\n",
    "    NumberOfDOF = 2*NumberOfNodes + NumberOfElements \n",
    "    \n",
    "StiffnessMatrix = np.zeros((NumberOfDOF, NumberOfDOF)) \n",
    "for element in range(NumberOfElements):\n",
    "    Nodes = ConnectionMatrix[element]  \n",
    "    Crd = NodeCoordinates[Nodes]\n",
    "    L = Crd[-1] - Crd[0]    \n",
    "    x0 = Crd[0]\n",
    "    if TypeElement == 'Beam2' or TypeElement == 'Beam3':\n",
    "        DOF = np.hstack((Nodes, Nodes+NumberOfNodes)) #Degree of freedom: 2 displacements and 2 rotations\n",
    "    elif TypeElement == 'Beam2+':\n",
    "        DOF = np.hstack((Nodes, Nodes+NumberOfNodes, [2*NumberOfNodes + element])) #Degree of freedom: 2 displacements and 2 rotations\n",
    "    Kel = GetElementStiffnessMatrix(L,x0,E,I,nu, S, NumberOfIntegrationPoints) \n",
    "    StiffnessMatrix[DOF.reshape(-1,1), DOF] += Kel   \n",
    "\n",
    "print(StiffnessMatrix)"
   ]
  },
  {
   "cell_type": "markdown",
   "metadata": {},
   "source": [
    "## Matrice colonne des efforts généralisés\n"
   ]
  },
  {
   "cell_type": "markdown",
   "metadata": {},
   "source": [
    "Pour les efforts généralisées, on distingue les efforts ponctuels aux noeuds des efforts linéiques.\n",
    "On commence par initialiser un vecteur 'ForceVector' contenant uniquement les efforts aux noeuds (ici, un seul effort ponctuel sur le dernier noeuds). "
   ]
  },
  {
   "cell_type": "code",
   "execution_count": 11,
   "metadata": {},
   "outputs": [],
   "source": [
    "ForceVector = np.zeros(NumberOfDOF)\n",
    "ForceVector[NumberOfNodes-1] = F"
   ]
  },
  {
   "cell_type": "markdown",
   "metadata": {},
   "source": [
    "Pour les efforts linéiques, il faut revenir à la définition du travail des efforts exterieurs sur un élément. \n",
    "$$W_{ext} = \\int_{0}^{L} f_l(x) v(\\xi) \\, d\\xi$$\n",
    "Et donc en utilisant l'interpolation de $v(x)$:\n",
    "$$W_{ext} = q_{el}^T \\, \\underbrace{\\left( \\int_{0}^{L} N_v(\\xi,L)^T . f_l(\\xi+x_0) \\, d\\xi \\right)}_{F_{el}}  $$\n",
    "\n",
    "Comme pour la matrice de rigidité globale, nous définissons une fonction $dF = N_v(\\xi,L)^T . f_l(\\xi+x0)$ que nous intégrons sur chaque élément pour avoir $F_{el}$, puis nous sommons les contributions de chaque éléments dans une matrice colonne globale (matrice des efforts généralisés). "
   ]
  },
  {
   "cell_type": "code",
   "execution_count": 12,
   "metadata": {},
   "outputs": [
    {
     "name": "stdout",
     "output_type": "stream",
     "text": [
      "[ 0.          1.66332665  1.67334669  4.98997996  3.34669339  8.31663327\n",
      "  5.02004008 11.64328657  6.69338677 14.96993988  8.36673347 18.29659319\n",
      " 10.04008016 21.62324649 11.71342685 24.9498998  13.38677355 28.27655311\n",
      " 15.06012024 31.60320641  8.36673347  0.          0.          0.\n",
      "  0.          0.          0.          0.          0.          0.\n",
      "  0.          0.          0.          0.          0.          0.\n",
      "  0.          0.          0.          0.          0.          0.        ]\n"
     ]
    }
   ],
   "source": [
    "#Assemble force vector\n",
    "for element in range(NumberOfElements):\n",
    "    Nodes = ConnectionMatrix[element]   \n",
    "    Crd = NodeCoordinates[Nodes]\n",
    "    L = Crd[-1] - Crd[0]\n",
    "    x0 = Crd[0]\n",
    "\n",
    "    if TypeElement == 'Beam2' or TypeElement == 'Beam3':\n",
    "        DOF = np.hstack((Nodes, Nodes+NumberOfNodes)) #Degree of freedom: 2 displacements and 2 rotations\n",
    "    elif TypeElement == 'Beam2+':\n",
    "        DOF = np.hstack((Nodes, Nodes+NumberOfNodes, [2*NumberOfNodes + element])) #Degree of freedom: 2 displacements and 2 rotations\n",
    "    \n",
    "    def dF(xi):\n",
    "        return (fl(xi+x0)*N(xi,L)[0]).T\n",
    "        \n",
    "    Fel = integrate(dF, 0, L, NumberOfIntegrationPoints)\n",
    "    ForceVector[DOF] += Fel #[0]  \n",
    "    \n",
    "print(ForceVector)"
   ]
  },
  {
   "cell_type": "markdown",
   "metadata": {},
   "source": [
    "## Conditions aux limites et résolution\n",
    "On définit une matrice $G$ telle que les conditions aux limites s'écrivent : $G q = Q_d$.\n",
    "Ici nous avons uniquement le premier noeud (noeud 0) qui est bloqué : $v_0=\\theta_0=0$."
   ]
  },
  {
   "cell_type": "code",
   "execution_count": 13,
   "metadata": {},
   "outputs": [
    {
     "name": "stdout",
     "output_type": "stream",
     "text": [
      "[[1. 0. 0. 0. 0. 0. 0. 0. 0. 0. 0. 0. 0. 0. 0. 0. 0. 0. 0. 0. 0. 0. 0. 0.\n",
      "  0. 0. 0. 0. 0. 0. 0. 0. 0. 0. 0. 0. 0. 0. 0. 0. 0. 0.]\n",
      " [0. 0. 0. 0. 0. 0. 0. 0. 0. 0. 0. 0. 0. 0. 0. 0. 0. 0. 0. 0. 0. 1. 0. 0.\n",
      "  0. 0. 0. 0. 0. 0. 0. 0. 0. 0. 0. 0. 0. 0. 0. 0. 0. 0.]]\n",
      "[0 0]\n"
     ]
    }
   ],
   "source": [
    "G = np.zeros((2,NumberOfDOF))\n",
    "G[0,0] = G[1, NumberOfNodes] = 1\n",
    "Qd = np.array([0,0]) \n",
    "print(G)\n",
    "print(Qd)"
   ]
  },
  {
   "cell_type": "markdown",
   "metadata": {},
   "source": [
    "On construit ensuite le système à résoudre : $M q = V$. \n",
    "Les conditions aux limites sont appliquées avec la méthode des multiplicateurs de Lagrange."
   ]
  },
  {
   "cell_type": "code",
   "execution_count": 14,
   "metadata": {},
   "outputs": [
    {
     "name": "stdout",
     "output_type": "stream",
     "text": [
      "[[ 1.77104000e+09 -2.02751452e+09  2.56474516e+08 ...  0.00000000e+00\n",
      "  -1.00000000e+00 -0.00000000e+00]\n",
      " [-2.02751452e+09  4.05502904e+09 -2.02751452e+09 ...  0.00000000e+00\n",
      "  -0.00000000e+00 -0.00000000e+00]\n",
      " [ 2.56474516e+08 -2.02751452e+09  3.54208000e+09 ...  0.00000000e+00\n",
      "  -0.00000000e+00 -0.00000000e+00]\n",
      " ...\n",
      " [ 0.00000000e+00  0.00000000e+00  0.00000000e+00 ...  7.49087742e+07\n",
      "  -0.00000000e+00 -0.00000000e+00]\n",
      " [ 1.00000000e+00  0.00000000e+00  0.00000000e+00 ...  0.00000000e+00\n",
      "   0.00000000e+00  0.00000000e+00]\n",
      " [ 0.00000000e+00  0.00000000e+00  0.00000000e+00 ...  0.00000000e+00\n",
      "   0.00000000e+00  0.00000000e+00]]\n"
     ]
    }
   ],
   "source": [
    "nbCL = np.shape(G)[0]\n",
    "M = np.block([[StiffnessMatrix, -G.T],[G, np.zeros((nbCL, nbCL))]])\n",
    "print(M)"
   ]
  },
  {
   "cell_type": "code",
   "execution_count": 15,
   "metadata": {},
   "outputs": [
    {
     "name": "stdout",
     "output_type": "stream",
     "text": [
      "[ 0.          1.66332665  1.67334669  4.98997996  3.34669339  8.31663327\n",
      "  5.02004008 11.64328657  6.69338677 14.96993988  8.36673347 18.29659319\n",
      " 10.04008016 21.62324649 11.71342685 24.9498998  13.38677355 28.27655311\n",
      " 15.06012024 31.60320641  8.36673347  0.          0.          0.\n",
      "  0.          0.          0.          0.          0.          0.\n",
      "  0.          0.          0.          0.          0.          0.\n",
      "  0.          0.          0.          0.          0.          0.\n",
      "  0.          0.        ]\n"
     ]
    }
   ],
   "source": [
    "V = np.block([ForceVector, Qd])\n",
    "print(V)"
   ]
  },
  {
   "cell_type": "markdown",
   "metadata": {},
   "source": [
    "le système est résolu par une méthode directe (pivot de Gauss). Pour les grands systèmes creux, l'utilisation d'une méthode itérative est en général plus efficace. "
   ]
  },
  {
   "cell_type": "code",
   "execution_count": 16,
   "metadata": {},
   "outputs": [
    {
     "name": "stdout",
     "output_type": "stream",
     "text": [
      "[[ 1.77104000e+09 -2.02751452e+09  2.56474516e+08 ...  0.00000000e+00\n",
      "  -1.00000000e+00 -0.00000000e+00]\n",
      " [-2.02751452e+09  4.05502904e+09 -2.02751452e+09 ...  0.00000000e+00\n",
      "  -0.00000000e+00 -0.00000000e+00]\n",
      " [ 2.56474516e+08 -2.02751452e+09  3.54208000e+09 ...  0.00000000e+00\n",
      "  -0.00000000e+00 -0.00000000e+00]\n",
      " ...\n",
      " [ 0.00000000e+00  0.00000000e+00  0.00000000e+00 ...  7.49087742e+07\n",
      "  -0.00000000e+00 -0.00000000e+00]\n",
      " [ 1.00000000e+00  0.00000000e+00  0.00000000e+00 ...  0.00000000e+00\n",
      "   0.00000000e+00  0.00000000e+00]\n",
      " [ 0.00000000e+00  0.00000000e+00  0.00000000e+00 ...  0.00000000e+00\n",
      "   0.00000000e+00  0.00000000e+00]]\n",
      "[ 0.          1.66332665  1.67334669  4.98997996  3.34669339  8.31663327\n",
      "  5.02004008 11.64328657  6.69338677 14.96993988  8.36673347 18.29659319\n",
      " 10.04008016 21.62324649 11.71342685 24.9498998  13.38677355 28.27655311\n",
      " 15.06012024 31.60320641  8.36673347  0.          0.          0.\n",
      "  0.          0.          0.          0.          0.          0.\n",
      "  0.          0.          0.          0.          0.          0.\n",
      "  0.          0.          0.          0.          0.          0.\n",
      "  0.          0.        ]\n",
      "[-6.33611170e-18  2.54596110e-06  9.64165086e-06  2.09194999e-05\n",
      "  3.60162228e-05  5.45731756e-05  7.62402822e-05  1.00675202e-04\n",
      "  1.27548446e-04  1.56541356e-04  1.87352409e-04  2.19694005e-04\n",
      "  2.53299967e-04  2.87921131e-04  3.23334043e-04  3.59335356e-04\n",
      "  3.95751715e-04  4.32432969e-04  4.69263240e-04  5.06152950e-04\n",
      "  5.43051077e-04]\n",
      "[1.51385187e-18 1.88380404e-05 3.64043923e-05 5.23128175e-05\n",
      " 6.69750730e-05 8.00296621e-05 9.18891188e-05 1.02224676e-04\n",
      " 1.11441657e-04 1.19252014e-04 1.26045868e-04 1.31583878e-04\n",
      " 1.36232980e-04 1.39810525e-04 1.42652275e-04 1.44640262e-04\n",
      " 1.46071084e-04 1.46899446e-04 1.47374792e-04 1.47532486e-04\n",
      " 1.47566832e-04]\n",
      "[-250.00000001 -833.34168339]\n"
     ]
    }
   ],
   "source": [
    "nbCL = np.shape(G)[0]\n",
    "M = np.block([[StiffnessMatrix, -G.T],[G, np.zeros((nbCL, nbCL))]])\n",
    "print(M)\n",
    "V = np.block([ForceVector, Qd])\n",
    "print(V)\n",
    "\n",
    "res  = np.linalg.solve(M, V)\n",
    "U = res[:NumberOfNodes]\n",
    "Theta= res[NumberOfNodes:2*NumberOfNodes]\n",
    "R = res[2*NumberOfNodes:]\n",
    "print(U) #Nodal displacement\n",
    "print(Theta) #Nodal rotation \n",
    "print(R) #Force and Moment Reaction"
   ]
  },
  {
   "cell_type": "markdown",
   "metadata": {},
   "source": [
    "## Visualisation\n",
    "### Visualisation du déplacement\n"
   ]
  },
  {
   "cell_type": "code",
   "execution_count": 17,
   "metadata": {
    "scrolled": true
   },
   "outputs": [
    {
     "data": {
      "text/plain": [
       "<matplotlib.legend.Legend at 0x2155deb7b20>"
      ]
     },
     "execution_count": 17,
     "metadata": {},
     "output_type": "execute_result"
    },
    {
     "data": {
      "image/png": "[encoded data removed]",
      "text/plain": [
       "<Figure size 432x288 with 1 Axes>"
      ]
     },
     "metadata": {
      "needs_background": "light"
     },
     "output_type": "display_data"
    }
   ],
   "source": [
    "#Reference solution (only for constant section)\n",
    "x = np.linspace(0, H, 10*NumberOfElements)\n",
    "if LoadCondition == 0:\n",
    "    plt.plot(x, fl(x)*((H-x)**4 + 4*H**3*x-H**4)/(24*E*I(x)), label='sol_Ref')\n",
    "#elif LoadCondition == 1:\n",
    "#    plt.plot(x, fl(x)*x**2*(20*H**3-10*H**2*x+x**3)/(120*E*I(x)*H), label='sol_Ref')\n",
    "elif LoadCondition == 1:\n",
    "    a = (fl(H)-fl(0))/H ; b = fl(0)\n",
    "    plt.plot(x, (a/120*x**5 + b/24*x**4 - (a*H**2/12+b*H/6)*x**3 + (a*H**3/6 + b*H**2/4)*x**2)/(E*I(x)), label='sol_Ref')\n",
    "elif LoadCondition == 2: \n",
    "    plt.plot(x, F*x**2*(3*H-x)/(6*E*I(x)), label='sol_Ref')\n",
    "\n",
    "#FE solution\n",
    "xi = np.linspace(0, L, 10)\n",
    "x_all = []\n",
    "u_y = []\n",
    "for element in range(NumberOfElements):\n",
    "    Nodes = ConnectionMatrix[element] \n",
    "    if TypeElement == 'Beam2' or TypeElement == 'Beam3':\n",
    "        DOF = np.hstack((Nodes, Nodes+NumberOfNodes)) #Degree of freedom: 2 displacements and 2 rotations\n",
    "    elif TypeElement == 'Beam2+':\n",
    "        DOF = np.hstack((Nodes, Nodes+NumberOfNodes, [2*NumberOfNodes + element])) #Degree of freedom: 2 displacements and 2 rotations\n",
    "    Crd = NodeCoordinates[Nodes]\n",
    "    L = Crd[-1]-Crd[0]\n",
    "    x = np.linspace(Crd[0], Crd[-1], 10)\n",
    "    u_y = np.hstack((u_y, (N(xi, L).transpose(2,0,1)@res[DOF])[:,0]))\n",
    "    x_all = np.hstack((x_all, x))\n",
    "\n",
    "plt.plot(x_all, u_y, label='sol_EF')\n",
    "plt.xlabel('x')\n",
    "plt.ylabel('V')\n",
    "plt.legend()\n"
   ]
  },
  {
   "cell_type": "markdown",
   "metadata": {},
   "source": [
    "### Visualisation du moment de flexion"
   ]
  },
  {
   "cell_type": "code",
   "execution_count": 18,
   "metadata": {},
   "outputs": [
    {
     "data": {
      "text/plain": [
       "<matplotlib.legend.Legend at 0x2155e387eb0>"
      ]
     },
     "execution_count": 18,
     "metadata": {},
     "output_type": "execute_result"
    },
    {
     "data": {
      "image/png": "[encoded data removed]",
      "text/plain": [
       "<Figure size 432x288 with 1 Axes>"
      ]
     },
     "metadata": {
      "needs_background": "light"
     },
     "output_type": "display_data"
    }
   ],
   "source": [
    "#Reference solution (only for constant section)\n",
    "x = np.linspace(0, H, 10*NumberOfElements)\n",
    "if LoadCondition == 0:\n",
    "    plt.plot(x, fl(x)*12*(H-x)**2/24, label='sol_Ref')\n",
    "       \n",
    "elif LoadCondition == 1:\n",
    "    a = (fl(H)-fl(0))/H ; b = fl(0)\n",
    "    plt.plot(x, a/3*(H**3-x**3) + (b-a*x)/2*(H**2-x**2) - x*b*(H-x), label='sol_Ref')\n",
    "\n",
    "elif LoadCondition == 2: \n",
    "    plt.plot(x, F*(H-x) , label='sol_Ref')\n",
    "\n",
    "\n",
    "#FE solution\n",
    "xi = np.linspace(0, L, 10)\n",
    "x_all = []\n",
    "sigma_x = []\n",
    "for element in range(NumberOfElements):\n",
    "    Nodes = ConnectionMatrix[element]   \n",
    "    if TypeElement == 'Beam2' or TypeElement == 'Beam3':\n",
    "        DOF = np.hstack((Nodes, Nodes+NumberOfNodes)) #Degree of freedom: 2 displacements and 2 rotations\n",
    "    elif TypeElement == 'Beam2+':\n",
    "        DOF = np.hstack((Nodes, Nodes+NumberOfNodes, [2*NumberOfNodes + element])) #Degree of freedom: 2 displacements and 2 rotations\n",
    "    Crd = NodeCoordinates[Nodes]\n",
    "    L = Crd[-1]-Crd[0]\n",
    "    x0 = Crd[0]\n",
    "    x = np.linspace(Crd[0], Crd[-1], 10)\n",
    "    sigma_x = np.hstack((sigma_x, (StressMatrix(xi, L,x0,  E, I, nu, S).transpose(2,0,1)@res[DOF])[:,0]))\n",
    "    x_all = np.hstack((x_all, x))\n",
    "\n",
    "plt.plot(x_all, sigma_x, label='sol_EF')\n",
    "plt.xlabel('x')\n",
    "plt.ylabel('Flexural Moment')\n",
    "plt.legend()"
   ]
  },
  {
   "cell_type": "code",
   "execution_count": 19,
   "metadata": {},
   "outputs": [
    {
     "name": "stdout",
     "output_type": "stream",
     "text": [
      "[410.59381618 315.20385459 243.59235479 195.75931677 171.70474055\n",
      " 171.42862611 194.93097346 242.2117826  313.27105352 408.10878624]\n",
      "[404.86449379 310.83092961 240.09867064 192.66771689 168.53806836\n",
      " 167.70972505 190.18268695 235.95695407 305.03252641 397.40940397]\n",
      "[390.92081908 300.15227858 231.73073016 185.65617382 161.92860955\n",
      " 160.54803736 181.51445725 224.82786922 290.48827326 378.49566938]\n",
      "[368.76279204 283.16790151 218.48853335 174.72468755 151.87636412\n",
      " 149.94356305 168.92628436 208.82452802 269.63829406 351.36758246]\n",
      "[338.39041267 259.87779839 200.3720802  159.87325809 138.38133206\n",
      " 135.89630212 152.41816826 187.94693049 242.48258881 316.02514321]\n",
      "[299.80368098 230.28196923 177.38137071 141.10188543 121.44351338\n",
      " 118.40625456 131.99010898 162.19507663 209.02115752 272.46835164]\n",
      "[253.00259696 194.38041402 149.51640489 118.41056957 101.06290807\n",
      "  97.47342038 107.6421065  131.56896643 169.25400018 220.69720774]\n",
      "[197.98716062 152.17313277 116.77718274  91.79931053  77.23951614\n",
      "  73.09779957  79.37416083  96.0685999  123.1811168  160.71171151]\n",
      "[134.75737195 103.66012547  79.16370425  61.26810829  49.97333758\n",
      "  45.27939214  47.18627196  55.69397703  70.80250737  92.51186296]\n",
      "[63.31323095 48.84139212 36.67596942 26.81696285 19.2643724  14.01819809\n",
      " 11.0784399  10.44509783 12.11817189 16.09766208]\n"
     ]
    },
    {
     "data": {
      "text/plain": [
       "<matplotlib.legend.Legend at 0x2155e3f6ee0>"
      ]
     },
     "execution_count": 19,
     "metadata": {},
     "output_type": "execute_result"
    },
    {
     "data": {
      "image/png": "[encoded data removed]",
      "text/plain": [
       "<Figure size 432x288 with 1 Axes>"
      ]
     },
     "metadata": {
      "needs_background": "light"
     },
     "output_type": "display_data"
    }
   ],
   "source": [
    "#FE solution\n",
    "xi = np.linspace(0, L, 10)\n",
    "x_all = []\n",
    "sigma_xy = []\n",
    "for element in range(NumberOfElements):\n",
    "    Nodes = ConnectionMatrix[element]   \n",
    "    if TypeElement == 'Beam2' or TypeElement == 'Beam3':\n",
    "        DOF = np.hstack((Nodes, Nodes+NumberOfNodes)) #Degree of freedom: 2 displacements and 2 rotations\n",
    "    elif TypeElement == 'Beam2+':\n",
    "        DOF = np.hstack((Nodes, Nodes+NumberOfNodes, [2*NumberOfNodes + element])) #Degree of freedom: 2 displacements and 2 rotations\n",
    "    Crd = NodeCoordinates[Nodes]\n",
    "    L = Crd[-1]-Crd[0]\n",
    "    x0 = Crd[0]\n",
    "    x = np.linspace(Crd[0], Crd[-1], 10)\n",
    "    sigma_xy = np.hstack((sigma_xy, (StressMatrix(xi, L,x0,  E, I, nu, S).transpose(2,0,1)@res[DOF])[:,1]))\n",
    "    print((StressMatrix(xi, L,x0,  E, I, nu, S).transpose(2,0,1)@res[DOF])[:,1])\n",
    "\n",
    "    x_all = np.hstack((x_all, x))\n",
    "\n",
    "plt.plot(x_all, sigma_xy, label='sol_EF')\n",
    "plt.xlabel('x')\n",
    "plt.ylabel('Shear Force')\n",
    "plt.legend()\n",
    "    \n",
    "    "
   ]
  },
  {
   "cell_type": "code",
   "execution_count": 20,
   "metadata": {},
   "outputs": [
    {
     "data": {
      "text/plain": [
       "<matplotlib.legend.Legend at 0x2155b976f40>"
      ]
     },
     "execution_count": 20,
     "metadata": {},
     "output_type": "execute_result"
    },
    {
     "data": {
      "image/png": "[encoded data removed]",
      "text/plain": [
       "<Figure size 432x288 with 1 Axes>"
      ]
     },
     "metadata": {
      "needs_background": "light"
     },
     "output_type": "display_data"
    }
   ],
   "source": [
    "xi = np.linspace(0, L, 10)\n",
    "x_all = []\n",
    "theta_x = []\n",
    "for element in range(NumberOfElements):\n",
    "    Nodes = ConnectionMatrix[element] \n",
    "    if TypeElement == 'Beam2':\n",
    "        DOF = np.hstack((Nodes, Nodes+NumberOfNodes)) #Degree of freedom: 2 displacements and 2 rotations\n",
    "    elif TypeElement == 'Beam2+':\n",
    "        DOF = np.hstack((Nodes, Nodes+NumberOfNodes, [2*NumberOfNodes + element])) #Degree of freedom: 2 displacements and 2 rotations\n",
    "    Crd = NodeCoordinates[Nodes]\n",
    "    L = Crd[-1]-Crd[0]\n",
    "    x = np.linspace(Crd[0], Crd[-1], 10)\n",
    "    theta_x = np.hstack((theta_x, (N(xi, L).transpose(2,0,1)@res[DOF])[:,1]))\n",
    "    x_all = np.hstack((x_all, x))\n",
    "\n",
    "plt.plot(x_all, theta_x, label='sol_EF')\n",
    "plt.xlabel('x')\n",
    "plt.ylabel('Theta')\n",
    "plt.legend()"
   ]
  },
  {
   "cell_type": "markdown",
   "metadata": {},
   "source": [
    "## Pour aller plus loin\n",
    "* Modifier le nombre de noeuds et relancer le calcul pour observer la convergence des résultats vers la solution analytique. On remarque que le résultat de l'effort tranchant n'est pas satisfaisant.\n",
    "* Changer pour l'élément 'Beam3' à 3 noeuds et observer les résultats. La convergence de la flèche et du moment fléchissant est améliorée mais l'effort tranchant et l'évolution de l'angle de rotation de section ne sont toujours pas bien approchés. On peut donc conclure qu'augmenter l'ordre de l'interpolation ne conduit pas toujours à une meilleur approximation.\n",
    "* Changer pour l'élément 'Beam2+' et observer les résultats. On voit clairement une amélioration sur l'approximation de l'effort tranchant. Comme la flexion est dominante dans ce problème, l'angle de glissement sera très petit. Dans l'expression de l'angle de glissement, nous voyons donc que la dérivée de $v$ sera proche de $\\theta$. Il est donc souhaitable d'utiliser une interpolation d'ordre plus élevé pour $v$ que pour $\\theta$. L'élément 'Beam2+' est construit de sur la base d'une interpolation linéaire pour $v$ et $\\theta$ mais on rajoute un degré de liberté supplémentaire pour enrichir l'interpolation de $v$. La fonction de forme associée à ce degré de liberté est quadratique, vaut 1 au centre (en $\\frac{L}{2}$) et s'annule sur les bords de l'élément. Il est bien sur aussi possible de construire une interpolation quadratique pour $v$ et affine pour $\\theta$. "
   ]
  },
  {
   "cell_type": "code",
   "execution_count": null,
   "metadata": {},
   "outputs": [],
   "source": []
  }
 ],
 "metadata": {
  "kernelspec": {
   "display_name": "Python 3 (ipykernel)",
   "language": "python",
   "name": "python3"
  },
  "language_info": {
   "codemirror_mode": {
    "name": "ipython",
    "version": 3
   },
   "file_extension": ".py",
   "mimetype": "text/x-python",
   "name": "python",
   "nbconvert_exporter": "python",
   "pygments_lexer": "ipython3",
   "version": "3.8.12"
  }
 },
 "nbformat": 4,
 "nbformat_minor": 2
}
