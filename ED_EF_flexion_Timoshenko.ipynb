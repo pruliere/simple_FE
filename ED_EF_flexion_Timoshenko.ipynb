{
 "cells": [
  {
   "cell_type": "markdown",
   "metadata": {},
   "source": [
    "# Résolution d'un problème de flexion d'un poteau par éléments finis - Modèle de Timoshenko\n",
    "Exemple vu en ED éléments finis - Mécanique des solides déformations \n",
    "\n",
    "@Arts et Métiers - Campus de Bordeaux"
   ]
  },
  {
   "cell_type": "markdown",
   "metadata": {},
   "source": [
    "## Choix d’une modélisation\n",
    "On souhaite étudier la tenue mécanique d’un poteau en acier (S185 galvanisé) soumis à l'action du vent.\n",
    "Ce poteau fait une hauteur H. Il est tubulaire : sa section droite est circulaire et creuse, de rayon extérieur r et d’épaisseur e constants.\n",
    "\n",
    "L'action du vent est modélisée par un efort linéique à ditribution linéaire : .\n",
    "$\\vec{f_l} = \\frac{f_l}{H}x \\vec{y}$ .\n",
    "La liaison entre le poteau et le sol est modélisée par un encastrement.\n",
    "\n",
    "On suppose que le matériau est homogène et isotrope. Ses propriétés élastiques sont données par le module d’Young $E$, le coefficient de Poisson $\\nu$, et la limite d’élasticité $Re$. Sa masse volumique est notée $\\rho$.\n",
    "Le cadre d’application est celui des Petites Perturbations.\n",
    "\n",
    "Données : $H$ = 5m, $r$ = 15cm, $e$ = 5mm, $E$ = 210GPa, $\\nu$ = 0.285, $Re$ = 185MPa, $\\rho$ = 7850kg/m3.\n",
    "\n",
    "Remarque : \n",
    "* Dans le code, certains paramètres sont définis comme des fonctions pour pouvoir les remplacer par des valeurs variables le long de la poutre. \n",
    "* Plusieurs conditions de chargement ont été prédéfinies. Le cas de chargement peut être modifié en changeant la variable 'LoadCondition'.\n"
   ]
  },
  {
   "cell_type": "code",
   "execution_count": 21,
   "metadata": {},
   "outputs": [],
   "source": [
    "import numpy as np\n",
    "from matplotlib import pylab as plt\n",
    "\n",
    "H = 5\n",
    "E = 210e9 #Young Modulus\n",
    "nu = 0.285 #poisson Ratio\n",
    "F = -1000 #point force at the high end of the beam\n",
    "\n",
    "# the following function are given in function of the global coordinate x\n",
    "def r(x): return 0.15 # Constant section radius\n",
    "#def r(x): return 0.20*(1-x/H)+ 0.10*x/H # Variale section radius\n",
    "def e(x): return 0.005 #Section thickness\n",
    "def S(x): return np.pi * (r(x)**2 - (r(x)-e(x))**2)  #Section Area\n",
    "def I(x): return np.pi/4 * (r(x)**4 - (r(x)-e(x))**4)  #Section Area\n",
    "\n",
    "LoadCondition = 1\n",
    "if LoadCondition == 0:\n",
    "    #Constant lineic force    \n",
    "    F = 0\n",
    "    def fl(x): return -100 #lineic force \n",
    "elif LoadCondition == 1: \n",
    "    #Variable lineic force (with constant derivative)\n",
    "    F = 0\n",
    "    def fl(x): \n",
    "        a = 100/H ; b = 0\n",
    "        return a*x+b\n",
    "elif LoadCondition == 2: \n",
    "    F=1000 #point force at the high end of the beam\n",
    "    #node force on the top extremity\n",
    "    def fl(x): return 0        \n"
   ]
  },
  {
   "cell_type": "markdown",
   "metadata": {},
   "source": [
    "## Choix d'une discrétisation\n",
    "Afin de résoudre ce problème par la méthode des éléments finis, on choisit de discrétiser la poutre ci-dessus en 3 éléments de longueur L identiques : poutres à deux nœuds avec 2 degrés de liberté par noeud (déplacement $v$ suivant $y$ et rotation $\\theta$ suivant $\\vec{z}$).\n",
    "Il y aura ainsi 4 noeuds au total. La position des noeuds suivant $\\vec{x}$ est déterminé avec la fonction linspace de numpy."
   ]
  },
  {
   "cell_type": "code",
   "execution_count": 22,
   "metadata": {},
   "outputs": [
    {
     "name": "stdout",
     "output_type": "stream",
     "text": [
      "[0.         1.66666667 3.33333333 5.        ]\n"
     ]
    }
   ],
   "source": [
    "xmin = 0\n",
    "xmax = H\n",
    "NumberOfElements = 3\n",
    "\n",
    "TypeElement = 'Beam2' #can be modified to 'Beam3' or 'Beam2+'\n",
    "\n",
    "if TypeElement == 'Beam2' or TypeElement =='Beam2+': NumberOfNodes = NumberOfElements + 1\n",
    "elif TypeElement == 'Beam3': \n",
    "    NumberOfNodes = 2*NumberOfElements + 1\n",
    "else: raise NameError('TypeElement should be Beam2 or Beam3')\n",
    "       \n",
    "NodeCoordinates = np.linspace(xmin,xmax,NumberOfNodes)\n",
    "print(NodeCoordinates)"
   ]
  },
  {
   "cell_type": "markdown",
   "metadata": {},
   "source": [
    "Pour définir les 3 éléments, il convient de créer une matrice de connection dont les lignes sont les numéros des noeuds appartenant aux éléments (nombre de lignes = nombre d'éléments)"
   ]
  },
  {
   "cell_type": "code",
   "execution_count": 23,
   "metadata": {},
   "outputs": [
    {
     "name": "stdout",
     "output_type": "stream",
     "text": [
      "[[0 1]\n",
      " [1 2]\n",
      " [2 3]]\n"
     ]
    }
   ],
   "source": [
    "if TypeElement == 'Beam2' or TypeElement =='Beam2+':\n",
    "    ConnectionMatrix = np.c_[(np.arange(NumberOfNodes-1), np.arange(1,NumberOfNodes))]\n",
    "elif TypeElement == 'Beam3':\n",
    "    ConnectionMatrix = np.c_[(np.arange(0,NumberOfNodes-2,2), np.arange(1,NumberOfNodes-1,2),np.arange(2,NumberOfNodes,2))]\n",
    "    \n",
    "print(ConnectionMatrix)"
   ]
  },
  {
   "cell_type": "markdown",
   "metadata": {},
   "source": [
    "## Champs de déplacement de déformation et de contraintes approchés \n",
    "### Interpolation du champ de déplacement\n",
    "Pour la méthode des éléments finis, il faut commencer par définir une fonction d'interpolation sur chaque élément.\n",
    "Pour un élément poutre basé sur le modèle de Timoshenko il faut définir une interpolation pour le déplacement $v$ et une interpolation pour les rotations de section $\\theta$. Pour un élément de longueur $L$ sur l'intervale $[0,L]$, le déplacement et la rotation de section sont interpolés par : \n",
    "$$\\left[ \\begin{matrix} v(\\xi) \\\\ \\theta(\\xi) \\end{matrix} \\right] = \\left[ \\begin{matrix} 1-\\frac{\\xi}{L} & \\frac{\\xi}{L} & 0 & 0 \\\\ 0 & 0 & 1-\\frac{\\xi}{L} & \\frac{\\xi}{L} \\end{matrix} \\right] . \\left[ \\begin{matrix} v_i \\\\ v_j \\\\ \\theta_i \\\\ \\theta_j \\end{matrix} \\right] = \\underbrace{\\left[ \\begin{matrix} N_v(\\xi) \\\\ N_\\theta(\\xi) \\end{matrix}\\right]}_{N(\\xi)} . q_{el}$$\n",
    "$\\xi$ est la coordonnée définie dans le repère élémentaire. Pour passer du repère élémentaire au repère gobal, il suffit de faire le changement de variable $x = \\xi+x_0$ avec $x_0$ l'absisse de l'origine du repère élémentaire.\n",
    "\n",
    "La fonction $N(\\xi, L)$ est donc créée pour l'interpolation du champ de déplacement et de rotation. Si $\\xi$ et $L$ sont des scalaires, $N(\\xi, L)$ renvoie une matrice ligne. Si $\\xi$ est un numpy array de dimension 1, $N$ retourne un tableau de dimension 3 contenant toutes les valeurs de $N$ pour les position $\\xi$ données."
   ]
  },
  {
   "cell_type": "code",
   "execution_count": 24,
   "metadata": {},
   "outputs": [],
   "source": [
    "if TypeElement == 'Beam2':\n",
    "    def N(xi,L):\n",
    "        #1st line is displacement, second line is rotation\n",
    "        return np.array([[1-xi/L, xi/L,0*xi, 0*xi], \n",
    "                         [0*xi, 0*xi, 1-xi/L, xi/L]])\n",
    "elif TypeElement == 'Beam2+':\n",
    "    def N(xi,L):\n",
    "        #1st line is displacement, second line is rotation\n",
    "        return np.array([[1-xi/L, xi/L, 0*xi, 0*xi, 4/L*xi*(1-xi/L)], \n",
    "                         [0*xi, 0*xi, 1-xi/L, xi/L, 0*xi]])\n",
    "elif TypeElement == 'Beam3':\n",
    "    def N(xi,L):\n",
    "        #1st line is displacement, second line is rotation\n",
    "        return np.array([[2/L**2*xi**2-3/L*xi+1, 4/L*xi*(1-xi/L) , 2/L**2*xi**2-1/L*xi, 0*xi, 0*xi, 0*xi], \n",
    "                         [0*xi, 0*xi, 0*xi, 2/L**2*xi**2-3/L*xi+1, 4/L*xi*(1-xi/L) , 2/L**2*xi**2-1/L*xi]])"
   ]
  },
  {
   "cell_type": "markdown",
   "metadata": {},
   "source": [
    "### Visualisations les fonctions de forme en utilisant la fonction plot de matplotlib. "
   ]
  },
  {
   "cell_type": "code",
   "execution_count": 25,
   "metadata": {
    "scrolled": true
   },
   "outputs": [
    {
     "data": {
      "text/plain": [
       "<matplotlib.legend.Legend at 0x1c542111e10>"
      ]
     },
     "execution_count": 25,
     "metadata": {},
     "output_type": "execute_result"
    },
    {
     "data": {
      "image/png": "[encoded data removed]",
      "text/plain": [
       "<Figure size 432x288 with 1 Axes>"
      ]
     },
     "metadata": {
      "needs_background": "light"
     },
     "output_type": "display_data"
    }
   ],
   "source": [
    "NumberOfPointsToPlot = 50\n",
    "L=1\n",
    "xi = np.linspace(0, L, NumberOfPointsToPlot)\n",
    "plt.figure()\n",
    "plt.plot(xi, N(xi,L)[0,0,:], label='N_{vi}')\n",
    "plt.plot(xi, N(xi,L)[0,1,:], label='N_{vj}')\n",
    "\n",
    "if TypeElement =='Beam2+':\n",
    "    plt.plot(xi, N(xi,L)[0,-1,:], label='N_{vk}')\n",
    "\n",
    "if TypeElement == 'Beam3':\n",
    "    plt.plot(xi, N(xi,L)[0,2,:], label='N_{vk}')\n",
    "    \n",
    "plt.xlabel('xi')\n",
    "plt.ylabel('N(xi)')\n",
    "plt.legend()"
   ]
  },
  {
   "cell_type": "markdown",
   "metadata": {},
   "source": [
    "### Interpolation des déformations et contraintes\n",
    "Pour un élément poutre en flexion basé sur le modèle de Timoshenko, les déformations généralisées utiles sont la courbure de flexion $\\chi(x) = \\frac{d\\theta}{dx}(x)$ et l'angle de glissement des sections droites $\\gamma(x) = \\frac{dv}{dx}-\\theta$.\n",
    "$$\\left[ \\begin{matrix} \\frac{d\\theta}{d\\xi} \\\\  \\frac{dv}{d\\xi}-\\theta \\end{matrix} \\right] = \\left[ \\begin{matrix} 0 & 0 & -\\frac{1}{L} & \\frac{1}{L} \\\\ -\\frac{1}{L} & \\frac{1}{L} & -1+\\frac{\\xi}{L} & -\\frac{\\xi}{L} \\end{matrix} \\right] . \\left[ \\begin{matrix} v_i \\\\ v_j \\\\ \\theta_i \\\\ \\theta_j \\end{matrix} \\right] = B(\\xi) . q_{el}$$\n",
    "\n",
    "Pour en déduire le moment fléchissant et l'effort tranchant dans la poutre, il convient d'utiliser la loi de comportement généralisée :\n",
    "\n",
    "$M_f = EI \\chi$ et $T = \\mu S \\gamma$\n",
    "\n",
    "où $S$ est la section réduite et $\\mu = \\frac{E}{2(1+\\nu)}$ est le module de cisaillement. \n",
    "$$ \\left[ \\begin{matrix} M_f \\\\ T \\end{matrix} \\right] = \\underbrace{\\left[ \\begin{matrix} E I & 0 \\\\ 0 & \\mu S \\end{matrix} \\right]}_D B(\\xi) . q_{el} $$ \n",
    "\n",
    "Nous définissons donc les fonction matricielles 'B' et 'StressMatrix' respectivement pour l'interpolation des déformations et des contraintes généralisées (moment fléchissant et effort tranchant)."
   ]
  },
  {
   "cell_type": "code",
   "execution_count": 26,
   "metadata": {},
   "outputs": [],
   "source": [
    "if TypeElement == 'Beam2':\n",
    "    def B(xi, L):\n",
    "        #return : \n",
    "        # * chi=dtheta/dx (1rst line) \n",
    "        # * gamma=dv/dx-theta (2nd line)\n",
    "        return  np.array([[     0*xi,     0*xi, -1/L+0*xi, 1/L+0*xi ],\n",
    "                          [-1/L+0*xi, 1/L+0*xi, -1+xi/L  , -xi/L ]])\n",
    "\n",
    "elif TypeElement == 'Beam2+':\n",
    "    def B(xi, L):\n",
    "        #return : \n",
    "        # * chi=dtheta/dx (1rst line) \n",
    "        # * gamma=dv/dx-theta (2nd line)\n",
    "        return  np.array([[     0*xi,     0*xi, -1/L+0*xi, 1/L+0*xi, 0*xi ],\n",
    "                          [-1/L+0*xi, 1/L+0*xi, -1+xi/L  ,    -xi/L, 4/L*(1-2*xi/L) ]])\n",
    "\n",
    "elif TypeElement == 'Beam3':\n",
    "    def B(xi, L):\n",
    "        #return : \n",
    "        # * chi=dtheta/dx (1rst line) \n",
    "        # * gamma=dv/dx-theta (2nd line)\n",
    "        return  np.array([[     0*xi,     0*xi, 0*xi, 4/L**2*xi-3/L, 4/L*(1-2*xi/L), 4/L**2*xi-1/L],\n",
    "                          [4/L**2*xi-3/L, 4/L*(1-2*xi/L), 4/L**2*xi-1/L, -2/L**2*xi**2+3/L*xi-1, -4/L*xi*(1-xi/L) , -2/L**2*xi**2+1/L*xi]])\n",
    "    \n",
    "\n",
    "def StressMatrix(xi, L, x0, E, I, nu, S):\n",
    "    x = xi+x0 #change of variable: local coordinate is transform into global coordinate to use the function S\n",
    "    #return flexural moment and shear force  \n",
    "    #Shear Modulus = 0.5*E/(1+nu)        \n",
    "    #StressMatrix[0] return the flexural moment\n",
    "    #StressMatrix[1] return the shear force\n",
    "    return np.array( [E*I(xi+x0)*B(xi,L)[0],\n",
    "                      0.5*E/(1+nu)*S(xi+x0)*B(xi,L)[1]])"
   ]
  },
  {
   "cell_type": "markdown",
   "metadata": {},
   "source": [
    "Remarque : le changement de variable $x = \\xi+x_0$ est appliqué au moment quadratique pour passer du repère global au repère élémentaire."
   ]
  },
  {
   "cell_type": "markdown",
   "metadata": {},
   "source": [
    "## Matrice de rigidité élémentaire\n",
    "Pour calculer la matrice de rigidité élémentaire $K_{el}$, il faut revenir à la définition de l'énergie élastique.\n",
    "Pour des éléments poutres en flexion/cisaillement dans le plan : \n",
    "$$E_d = \\frac{1}{2} \\int_{0}^{L} ( M_f(\\xi) \\chi(\\xi) + T(\\xi) \\gamma(\\xi) ) \\, d\\xi$$\n",
    "Et donc en utilisant les interpolations de $\\gamma$ et $M_f$ :\n",
    "$$E_d = q_{el}^T \\, \\frac{1}{2} \\underbrace{\\left( \\int_{0}^{L} B(\\xi,L)^T . D . B(\\xi,L) \\, d\\xi \\right)}_{K_{el}} \\, q_{el} $$\n",
    "\n",
    "On commence par définir une fonction pour l'intégration basée sur la méthode des trapèzes dans un soucis de simplicité."
   ]
  },
  {
   "cell_type": "code",
   "execution_count": 27,
   "metadata": {},
   "outputs": [],
   "source": [
    "NumberOfIntegrationPoints = 500\n",
    "\n",
    "def integrate(f, a, b, N):\n",
    "    x = np.linspace(a, b, N)\n",
    "    fx = f(x)\n",
    "    area = np.sum(fx,axis = 0)*(b-a)/N\n",
    "    return area"
   ]
  },
  {
   "cell_type": "markdown",
   "metadata": {},
   "source": [
    "Nous avons vu que $K_{el} = \\int_{0}^{L} dE(\\xi,L,E,I,\\nu,S) \\, d\\xi$\n",
    "avec $dE = B(\\xi,L)^T . D . B(\\xi,L)$.\n",
    "\n",
    "Nous définissons donc la fonction dE que nous intégrons numériquement entre $0$ et $L$.\n",
    "Ces 2 étapes sont inclus dans la fonction GetElementStiffnessMatrix qui renvoit la matrice de rigidité $K_{el}$."
   ]
  },
  {
   "cell_type": "code",
   "execution_count": 28,
   "metadata": {},
   "outputs": [
    {
     "name": "stdout",
     "output_type": "stream",
     "text": [
      "[[ 3.78641371e+08 -3.78641371e+08  1.89320686e+08  1.89320686e+08]\n",
      " [-3.78641371e+08  3.78641371e+08 -1.89320686e+08 -1.89320686e+08]\n",
      " [ 1.89320686e+08 -1.89320686e+08  1.36928892e+08  5.23917936e+07]\n",
      " [ 1.89320686e+08 -1.89320686e+08  5.23917936e+07  1.36928892e+08]]\n"
     ]
    }
   ],
   "source": [
    "def GetElementStiffnessMatrix(L, x0, E, I, nu, S, NumberOfIntegrationPoints):\n",
    "    def dE(xi):        \n",
    "        Sigma = np.transpose( StressMatrix(xi,L,x0,E,I, nu, S) , (2,1,0) )\n",
    "        Epsilon = np.transpose( B(xi,L) , (2,0,1) )\n",
    "        return Sigma @ Epsilon #@ operator = stack of matrix multiplication\n",
    "    \n",
    "    return integrate(dE,0,L, NumberOfIntegrationPoints)\n",
    "\n",
    "Kel = GetElementStiffnessMatrix(L,0,E,I,nu, S, NumberOfIntegrationPoints)\n",
    "print(Kel)"
   ]
  },
  {
   "cell_type": "code",
   "execution_count": 29,
   "metadata": {},
   "outputs": [
    {
     "name": "stdout",
     "output_type": "stream",
     "text": [
      "[[ 3.78641371e+08 -3.78641371e+08  1.89320686e+08  1.89320686e+08]\n",
      " [-3.78641371e+08  3.78641371e+08 -1.89320686e+08 -1.89320686e+08]\n",
      " [ 1.89320686e+08 -1.89320686e+08  1.36928892e+08  5.23917936e+07]\n",
      " [ 1.89320686e+08 -1.89320686e+08  5.23917936e+07  1.36928892e+08]]\n"
     ]
    }
   ],
   "source": [
    "Kel = GetElementStiffnessMatrix(L,0,E,I,nu, S, NumberOfIntegrationPoints)\n",
    "print(Kel)"
   ]
  },
  {
   "cell_type": "markdown",
   "metadata": {},
   "source": [
    "## Assemblage de la matrice de rigidité globale"
   ]
  },
  {
   "cell_type": "markdown",
   "metadata": {},
   "source": [
    "L'assemblage de la matrice globale se fait simplement avec une boucle sur les éléments en ajoutant la contribution de chaque élément aux noeuds correspondants. "
   ]
  },
  {
   "cell_type": "code",
   "execution_count": 30,
   "metadata": {},
   "outputs": [
    {
     "name": "stdout",
     "output_type": "stream",
     "text": [
      "[[ 2.27184823e+08 -2.27184823e+08  0.00000000e+00  0.00000000e+00\n",
      "   1.89320686e+08  1.89320686e+08  0.00000000e+00  0.00000000e+00]\n",
      " [-2.27184823e+08  4.54369646e+08 -2.27184823e+08  0.00000000e+00\n",
      "  -1.89320686e+08 -2.98023224e-08  1.89320686e+08  0.00000000e+00]\n",
      " [ 0.00000000e+00 -2.27184823e+08  4.54369646e+08 -2.27184823e+08\n",
      "   0.00000000e+00 -1.89320686e+08 -5.96046448e-08  1.89320686e+08]\n",
      " [ 0.00000000e+00  0.00000000e+00 -2.27184823e+08  2.27184823e+08\n",
      "   0.00000000e+00  0.00000000e+00 -1.89320686e+08 -1.89320686e+08]\n",
      " [ 1.89320686e+08 -1.89320686e+08  0.00000000e+00  0.00000000e+00\n",
      "   2.16920276e+08  9.86141999e+07  0.00000000e+00  0.00000000e+00]\n",
      " [ 1.89320686e+08 -2.98023224e-08 -1.89320686e+08  0.00000000e+00\n",
      "   9.86141999e+07  4.33840553e+08  9.86141999e+07  0.00000000e+00]\n",
      " [ 0.00000000e+00  1.89320686e+08 -2.98023224e-08 -1.89320686e+08\n",
      "   0.00000000e+00  9.86141999e+07  4.33840553e+08  9.86141999e+07]\n",
      " [ 0.00000000e+00  0.00000000e+00  1.89320686e+08 -1.89320686e+08\n",
      "   0.00000000e+00  0.00000000e+00  9.86141999e+07  2.16920276e+08]]\n"
     ]
    }
   ],
   "source": [
    "#Assemble the global stiffness matrix\n",
    "if TypeElement == 'Beam2' or TypeElement == 'Beam3':\n",
    "    NumberOfDOF = 2*NumberOfNodes #2 dof per node: 2 displacements and 2 rotations\n",
    "elif TypeElement == 'Beam2+':\n",
    "    NumberOfDOF = 2*NumberOfNodes + NumberOfElements \n",
    "    \n",
    "StiffnessMatrix = np.zeros((NumberOfDOF, NumberOfDOF)) \n",
    "for element in range(NumberOfElements):\n",
    "    Nodes = ConnectionMatrix[element]  \n",
    "    Crd = NodeCoordinates[Nodes]\n",
    "    L = Crd[-1] - Crd[0]    \n",
    "    x0 = Crd[0]\n",
    "    if TypeElement == 'Beam2' or TypeElement == 'Beam3':\n",
    "        DOF = np.hstack((Nodes, Nodes+NumberOfNodes)) #Degree of freedom: 2 displacements and 2 rotations\n",
    "    elif TypeElement == 'Beam2+':\n",
    "        DOF = np.hstack((Nodes, Nodes+NumberOfNodes, [2*NumberOfNodes + element])) #Degree of freedom: 2 displacements and 2 rotations\n",
    "    Kel = GetElementStiffnessMatrix(L,x0,E,I,nu, S, NumberOfIntegrationPoints) \n",
    "    StiffnessMatrix[DOF.reshape(-1,1), DOF] += Kel   \n",
    "\n",
    "print(StiffnessMatrix)"
   ]
  },
  {
   "cell_type": "markdown",
   "metadata": {},
   "source": [
    "## Matrice colonne des efforts généralisés\n"
   ]
  },
  {
   "cell_type": "markdown",
   "metadata": {},
   "source": [
    "Pour les efforts généralisées, on distingue les efforts ponctuels aux noeuds des efforts linéiques.\n",
    "On commence par initialiser un vecteur 'ForceVector' contenant uniquement les efforts aux noeuds (ici, un seul effort ponctuel sur le dernier noeuds). "
   ]
  },
  {
   "cell_type": "code",
   "execution_count": 31,
   "metadata": {},
   "outputs": [],
   "source": [
    "ForceVector = np.zeros(NumberOfDOF)\n",
    "ForceVector[NumberOfNodes-1] = F"
   ]
  },
  {
   "cell_type": "markdown",
   "metadata": {},
   "source": [
    "Pour les efforts linéiques, il faut revenir à la définition du travail des efforts exterieurs sur un élément. \n",
    "$$W_{ext} = \\int_{0}^{L} f_l(x) v(\\xi) \\, d\\xi$$\n",
    "Et donc en utilisant l'interpolation de $v(x)$:\n",
    "$$W_{ext} = q_{el}^T \\, \\underbrace{\\left( \\int_{0}^{L} N_v(\\xi,L)^T . f_l(\\xi+x_0) \\, d\\xi \\right)}_{F_{el}}  $$\n",
    "\n",
    "Comme pour la matrice de rigidité globale, nous définissons une fonction $dF = N_v(\\xi,L)^T . f_l(\\xi+x0)$ que nous intégrons sur chaque élément pour avoir $F_{el}$, puis nous sommons les contributions de chaque éléments dans une matrice colonne globale (matrice des efforts généralisés). "
   ]
  },
  {
   "cell_type": "code",
   "execution_count": 32,
   "metadata": {},
   "outputs": [
    {
     "name": "stdout",
     "output_type": "stream",
     "text": [
      "[  9.24070363  55.55555556 111.11111111  74.0926297    0.\n",
      "   0.           0.           0.        ]\n"
     ]
    }
   ],
   "source": [
    "#Assemble force vector\n",
    "for element in range(NumberOfElements):\n",
    "    Nodes = ConnectionMatrix[element]   \n",
    "    Crd = NodeCoordinates[Nodes]\n",
    "    L = Crd[-1] - Crd[0]\n",
    "    x0 = Crd[0]\n",
    "\n",
    "    if TypeElement == 'Beam2' or TypeElement == 'Beam3':\n",
    "        DOF = np.hstack((Nodes, Nodes+NumberOfNodes)) #Degree of freedom: 2 displacements and 2 rotations\n",
    "    elif TypeElement == 'Beam2+':\n",
    "        DOF = np.hstack((Nodes, Nodes+NumberOfNodes, [2*NumberOfNodes + element])) #Degree of freedom: 2 displacements and 2 rotations\n",
    "    \n",
    "    def dF(xi):\n",
    "        return (fl(xi+x0)*N(xi,L)[0]).T\n",
    "        \n",
    "    Fel = integrate(dF, 0, L, NumberOfIntegrationPoints)\n",
    "    ForceVector[DOF] += Fel #[0]  \n",
    "    \n",
    "print(ForceVector)"
   ]
  },
  {
   "cell_type": "markdown",
   "metadata": {},
   "source": [
    "## Conditions aux limites et résolution\n",
    "On définit une matrice $G$ telle que les conditions aux limites s'écrivent : $G q = Q_d$.\n",
    "Ici nous avons uniquement le premier noeud (noeud 0) qui est bloqué : $v_0=\\theta_0=0$."
   ]
  },
  {
   "cell_type": "code",
   "execution_count": 33,
   "metadata": {},
   "outputs": [
    {
     "name": "stdout",
     "output_type": "stream",
     "text": [
      "[[1. 0. 0. 0. 0. 0. 0. 0.]\n",
      " [0. 0. 0. 0. 1. 0. 0. 0.]]\n",
      "[0 0]\n"
     ]
    }
   ],
   "source": [
    "G = np.zeros((2,NumberOfDOF))\n",
    "G[0,0] = G[1, NumberOfNodes] = 1\n",
    "Qd = np.array([0,0]) \n",
    "print(G)\n",
    "print(Qd)"
   ]
  },
  {
   "cell_type": "markdown",
   "metadata": {},
   "source": [
    "On construit ensuite le système à résoudre : $M q = V$. \n",
    "Les conditions aux limites sont appliquées avec la méthode des multiplicateurs de Lagrange."
   ]
  },
  {
   "cell_type": "code",
   "execution_count": 34,
   "metadata": {},
   "outputs": [
    {
     "name": "stdout",
     "output_type": "stream",
     "text": [
      "[[ 2.27184823e+08 -2.27184823e+08  0.00000000e+00  0.00000000e+00\n",
      "   1.89320686e+08  1.89320686e+08  0.00000000e+00  0.00000000e+00\n",
      "  -1.00000000e+00 -0.00000000e+00]\n",
      " [-2.27184823e+08  4.54369646e+08 -2.27184823e+08  0.00000000e+00\n",
      "  -1.89320686e+08 -2.98023224e-08  1.89320686e+08  0.00000000e+00\n",
      "  -0.00000000e+00 -0.00000000e+00]\n",
      " [ 0.00000000e+00 -2.27184823e+08  4.54369646e+08 -2.27184823e+08\n",
      "   0.00000000e+00 -1.89320686e+08 -5.96046448e-08  1.89320686e+08\n",
      "  -0.00000000e+00 -0.00000000e+00]\n",
      " [ 0.00000000e+00  0.00000000e+00 -2.27184823e+08  2.27184823e+08\n",
      "   0.00000000e+00  0.00000000e+00 -1.89320686e+08 -1.89320686e+08\n",
      "  -0.00000000e+00 -0.00000000e+00]\n",
      " [ 1.89320686e+08 -1.89320686e+08  0.00000000e+00  0.00000000e+00\n",
      "   2.16920276e+08  9.86141999e+07  0.00000000e+00  0.00000000e+00\n",
      "  -0.00000000e+00 -1.00000000e+00]\n",
      " [ 1.89320686e+08 -2.98023224e-08 -1.89320686e+08  0.00000000e+00\n",
      "   9.86141999e+07  4.33840553e+08  9.86141999e+07  0.00000000e+00\n",
      "  -0.00000000e+00 -0.00000000e+00]\n",
      " [ 0.00000000e+00  1.89320686e+08 -2.98023224e-08 -1.89320686e+08\n",
      "   0.00000000e+00  9.86141999e+07  4.33840553e+08  9.86141999e+07\n",
      "  -0.00000000e+00 -0.00000000e+00]\n",
      " [ 0.00000000e+00  0.00000000e+00  1.89320686e+08 -1.89320686e+08\n",
      "   0.00000000e+00  0.00000000e+00  9.86141999e+07  2.16920276e+08\n",
      "  -0.00000000e+00 -0.00000000e+00]\n",
      " [ 1.00000000e+00  0.00000000e+00  0.00000000e+00  0.00000000e+00\n",
      "   0.00000000e+00  0.00000000e+00  0.00000000e+00  0.00000000e+00\n",
      "   0.00000000e+00  0.00000000e+00]\n",
      " [ 0.00000000e+00  0.00000000e+00  0.00000000e+00  0.00000000e+00\n",
      "   1.00000000e+00  0.00000000e+00  0.00000000e+00  0.00000000e+00\n",
      "   0.00000000e+00  0.00000000e+00]]\n"
     ]
    }
   ],
   "source": [
    "nbCL = np.shape(G)[0]\n",
    "M = np.block([[StiffnessMatrix, -G.T],[G, np.zeros((nbCL, nbCL))]])\n",
    "print(M)"
   ]
  },
  {
   "cell_type": "code",
   "execution_count": 35,
   "metadata": {},
   "outputs": [
    {
     "name": "stdout",
     "output_type": "stream",
     "text": [
      "[  9.24070363  55.55555556 111.11111111  74.0926297    0.\n",
      "   0.           0.           0.           0.           0.        ]\n"
     ]
    }
   ],
   "source": [
    "V = np.block([ForceVector, Qd])\n",
    "print(V)"
   ]
  },
  {
   "cell_type": "markdown",
   "metadata": {},
   "source": [
    "le système est résolu par une méthode directe (pivot de Gauss). Pour les grands systèmes creux, l'utilisation d'une méthode itérative est en général plus efficace. "
   ]
  },
  {
   "cell_type": "code",
   "execution_count": 36,
   "metadata": {},
   "outputs": [
    {
     "name": "stdout",
     "output_type": "stream",
     "text": [
      "[[ 2.27184823e+08 -2.27184823e+08  0.00000000e+00  0.00000000e+00\n",
      "   1.89320686e+08  1.89320686e+08  0.00000000e+00  0.00000000e+00\n",
      "  -1.00000000e+00 -0.00000000e+00]\n",
      " [-2.27184823e+08  4.54369646e+08 -2.27184823e+08  0.00000000e+00\n",
      "  -1.89320686e+08 -2.98023224e-08  1.89320686e+08  0.00000000e+00\n",
      "  -0.00000000e+00 -0.00000000e+00]\n",
      " [ 0.00000000e+00 -2.27184823e+08  4.54369646e+08 -2.27184823e+08\n",
      "   0.00000000e+00 -1.89320686e+08 -5.96046448e-08  1.89320686e+08\n",
      "  -0.00000000e+00 -0.00000000e+00]\n",
      " [ 0.00000000e+00  0.00000000e+00 -2.27184823e+08  2.27184823e+08\n",
      "   0.00000000e+00  0.00000000e+00 -1.89320686e+08 -1.89320686e+08\n",
      "  -0.00000000e+00 -0.00000000e+00]\n",
      " [ 1.89320686e+08 -1.89320686e+08  0.00000000e+00  0.00000000e+00\n",
      "   2.16920276e+08  9.86141999e+07  0.00000000e+00  0.00000000e+00\n",
      "  -0.00000000e+00 -1.00000000e+00]\n",
      " [ 1.89320686e+08 -2.98023224e-08 -1.89320686e+08  0.00000000e+00\n",
      "   9.86141999e+07  4.33840553e+08  9.86141999e+07  0.00000000e+00\n",
      "  -0.00000000e+00 -0.00000000e+00]\n",
      " [ 0.00000000e+00  1.89320686e+08 -2.98023224e-08 -1.89320686e+08\n",
      "   0.00000000e+00  9.86141999e+07  4.33840553e+08  9.86141999e+07\n",
      "  -0.00000000e+00 -0.00000000e+00]\n",
      " [ 0.00000000e+00  0.00000000e+00  1.89320686e+08 -1.89320686e+08\n",
      "   0.00000000e+00  0.00000000e+00  9.86141999e+07  2.16920276e+08\n",
      "  -0.00000000e+00 -0.00000000e+00]\n",
      " [ 1.00000000e+00  0.00000000e+00  0.00000000e+00  0.00000000e+00\n",
      "   0.00000000e+00  0.00000000e+00  0.00000000e+00  0.00000000e+00\n",
      "   0.00000000e+00  0.00000000e+00]\n",
      " [ 0.00000000e+00  0.00000000e+00  0.00000000e+00  0.00000000e+00\n",
      "   1.00000000e+00  0.00000000e+00  0.00000000e+00  0.00000000e+00\n",
      "   0.00000000e+00  0.00000000e+00]]\n",
      "[  9.24070363  55.55555556 111.11111111  74.0926297    0.\n",
      "   0.           0.           0.           0.           0.        ]\n",
      "[-2.03122966e-21  9.97438679e-06  3.25327885e-05  5.93858623e-05]\n",
      "[2.93946385e-21 1.06975632e-05 1.53942648e-05 1.64380634e-05]\n",
      "[-250.         -833.42611148]\n"
     ]
    }
   ],
   "source": [
    "nbCL = np.shape(G)[0]\n",
    "M = np.block([[StiffnessMatrix, -G.T],[G, np.zeros((nbCL, nbCL))]])\n",
    "print(M)\n",
    "V = np.block([ForceVector, Qd])\n",
    "print(V)\n",
    "\n",
    "res  = np.linalg.solve(M, V)\n",
    "U = res[:NumberOfNodes]\n",
    "Theta= res[NumberOfNodes:2*NumberOfNodes]\n",
    "R = res[2*NumberOfNodes:]\n",
    "print(U) #Nodal displacement\n",
    "print(Theta) #Nodal rotation \n",
    "print(R) #Force and Moment Reaction"
   ]
  },
  {
   "cell_type": "markdown",
   "metadata": {},
   "source": [
    "## Visualisation\n",
    "### Visualisation du déplacement\n"
   ]
  },
  {
   "cell_type": "code",
   "execution_count": 37,
   "metadata": {
    "scrolled": true
   },
   "outputs": [
    {
     "data": {
      "text/plain": [
       "<matplotlib.legend.Legend at 0x1c542191b70>"
      ]
     },
     "execution_count": 37,
     "metadata": {},
     "output_type": "execute_result"
    },
    {
     "data": {
      "image/png": "[encoded data removed]",
      "text/plain": [
       "<Figure size 432x288 with 1 Axes>"
      ]
     },
     "metadata": {
      "needs_background": "light"
     },
     "output_type": "display_data"
    }
   ],
   "source": [
    "#Reference solution (only for constant section)\n",
    "x = np.linspace(0, H, 10*NumberOfElements)\n",
    "if LoadCondition == 0:\n",
    "    plt.plot(x, fl(x)*((H-x)**4 + 4*H**3*x-H**4)/(24*E*I(x)), label='sol_Ref')\n",
    "#elif LoadCondition == 1:\n",
    "#    plt.plot(x, fl(x)*x**2*(20*H**3-10*H**2*x+x**3)/(120*E*I(x)*H), label='sol_Ref')\n",
    "elif LoadCondition == 1:\n",
    "    a = (fl(H)-fl(0))/H ; b = fl(0)\n",
    "    plt.plot(x, (a/120*x**5 + b/24*x**4 - (a*H**2/12+b*H/6)*x**3 + (a*H**3/6 + b*H**2/4)*x**2)/(E*I(x)), label='sol_Ref')\n",
    "elif LoadCondition == 2: \n",
    "    plt.plot(x, F*x**2*(3*H-x)/(6*E*I(x)), label='sol_Ref')\n",
    "\n",
    "#FE solution\n",
    "xi = np.linspace(0, L, 10)\n",
    "x_all = []\n",
    "u_y = []\n",
    "for element in range(NumberOfElements):\n",
    "    Nodes = ConnectionMatrix[element] \n",
    "    if TypeElement == 'Beam2' or TypeElement == 'Beam3':\n",
    "        DOF = np.hstack((Nodes, Nodes+NumberOfNodes)) #Degree of freedom: 2 displacements and 2 rotations\n",
    "    elif TypeElement == 'Beam2+':\n",
    "        DOF = np.hstack((Nodes, Nodes+NumberOfNodes, [2*NumberOfNodes + element])) #Degree of freedom: 2 displacements and 2 rotations\n",
    "    Crd = NodeCoordinates[Nodes]\n",
    "    L = Crd[-1]-Crd[0]\n",
    "    x = np.linspace(Crd[0], Crd[-1], 10)\n",
    "    u_y = np.hstack((u_y, (N(xi, L).transpose(2,0,1)@res[DOF])[:,0]))\n",
    "    x_all = np.hstack((x_all, x))\n",
    "\n",
    "plt.plot(x_all, u_y, label='sol_EF')\n",
    "plt.xlabel('x')\n",
    "plt.ylabel('V')\n",
    "plt.legend()\n"
   ]
  },
  {
   "cell_type": "markdown",
   "metadata": {},
   "source": [
    "### Visualisation de l'effort normal"
   ]
  },
  {
   "cell_type": "code",
   "execution_count": 38,
   "metadata": {},
   "outputs": [
    {
     "data": {
      "text/plain": [
       "<matplotlib.legend.Legend at 0x1c5421dcb00>"
      ]
     },
     "execution_count": 38,
     "metadata": {},
     "output_type": "execute_result"
    },
    {
     "data": {
      "image/png": "[encoded data removed]",
      "text/plain": [
       "<Figure size 432x288 with 1 Axes>"
      ]
     },
     "metadata": {
      "needs_background": "light"
     },
     "output_type": "display_data"
    }
   ],
   "source": [
    "#Reference solution (only for constant section)\n",
    "x = np.linspace(0, H, 10*NumberOfElements)\n",
    "if LoadCondition == 0:\n",
    "    plt.plot(x, fl(x)*12*(H-x)**2/24, label='sol_Ref')\n",
    "       \n",
    "elif LoadCondition == 1:\n",
    "    a = (fl(H)-fl(0))/H ; b = fl(0)\n",
    "    plt.plot(x, a/3*(H**3-x**3) + (b-a*x)/2*(H**2-x**2) - x*b*(H-x), label='sol_Ref')\n",
    "\n",
    "elif LoadCondition == 2: \n",
    "    plt.plot(x, F*(H-x) , label='sol_Ref')\n",
    "\n",
    "\n",
    "#FE solution\n",
    "xi = np.linspace(0, L, 10)\n",
    "x_all = []\n",
    "sigma_x = []\n",
    "for element in range(NumberOfElements):\n",
    "    Nodes = ConnectionMatrix[element]   \n",
    "    if TypeElement == 'Beam2' or TypeElement == 'Beam3':\n",
    "        DOF = np.hstack((Nodes, Nodes+NumberOfNodes)) #Degree of freedom: 2 displacements and 2 rotations\n",
    "    elif TypeElement == 'Beam2+':\n",
    "        DOF = np.hstack((Nodes, Nodes+NumberOfNodes, [2*NumberOfNodes + element])) #Degree of freedom: 2 displacements and 2 rotations\n",
    "    Crd = NodeCoordinates[Nodes]\n",
    "    L = Crd[-1]-Crd[0]\n",
    "    x0 = Crd[0]\n",
    "    x = np.linspace(Crd[0], Crd[-1], 10)\n",
    "    sigma_x = np.hstack((sigma_x, (StressMatrix(xi, L,x0,  E, I, nu, S).transpose(2,0,1)@res[DOF])[:,0]))\n",
    "    x_all = np.hstack((x_all, x))\n",
    "\n",
    "plt.plot(x_all, sigma_x, label='sol_EF')\n",
    "plt.xlabel('x')\n",
    "plt.ylabel('Flexural Moment')\n",
    "plt.legend()"
   ]
  },
  {
   "cell_type": "code",
   "execution_count": 39,
   "metadata": {},
   "outputs": [
    {
     "name": "stdout",
     "output_type": "stream",
     "text": [
      "[ 2266.02929609  1815.96929615  1365.90929622   915.84929628\n",
      "   465.78929634    15.7292964   -434.33070354  -884.39070348\n",
      " -1334.45070341 -1784.51070335]\n",
      "[1074.38650075  876.79033188  679.194163    481.59799413  284.00182525\n",
      "   86.40565638 -111.1905125  -308.78668137 -506.38285025 -703.97901912]\n",
      "[ 271.70529517  227.79136951  183.87744385  139.96351819   96.04959253\n",
      "   52.13566687    8.22174121  -35.69218444  -79.6061101  -123.52003576]\n"
     ]
    },
    {
     "data": {
      "text/plain": [
       "<matplotlib.legend.Legend at 0x1c5422516d8>"
      ]
     },
     "execution_count": 39,
     "metadata": {},
     "output_type": "execute_result"
    },
    {
     "data": {
      "image/png": "[encoded data removed]",
      "text/plain": [
       "<Figure size 432x288 with 1 Axes>"
      ]
     },
     "metadata": {
      "needs_background": "light"
     },
     "output_type": "display_data"
    }
   ],
   "source": [
    "#FE solution\n",
    "xi = np.linspace(0, L, 10)\n",
    "x_all = []\n",
    "sigma_xy = []\n",
    "for element in range(NumberOfElements):\n",
    "    Nodes = ConnectionMatrix[element]   \n",
    "    if TypeElement == 'Beam2' or TypeElement == 'Beam3':\n",
    "        DOF = np.hstack((Nodes, Nodes+NumberOfNodes)) #Degree of freedom: 2 displacements and 2 rotations\n",
    "    elif TypeElement == 'Beam2+':\n",
    "        DOF = np.hstack((Nodes, Nodes+NumberOfNodes, [2*NumberOfNodes + element])) #Degree of freedom: 2 displacements and 2 rotations\n",
    "    Crd = NodeCoordinates[Nodes]\n",
    "    L = Crd[-1]-Crd[0]\n",
    "    x0 = Crd[0]\n",
    "    x = np.linspace(Crd[0], Crd[-1], 10)\n",
    "    sigma_xy = np.hstack((sigma_xy, (StressMatrix(xi, L,x0,  E, I, nu, S).transpose(2,0,1)@res[DOF])[:,1]))\n",
    "    print((StressMatrix(xi, L,x0,  E, I, nu, S).transpose(2,0,1)@res[DOF])[:,1])\n",
    "\n",
    "    x_all = np.hstack((x_all, x))\n",
    "\n",
    "plt.plot(x_all, sigma_xy, label='sol_EF')\n",
    "plt.xlabel('x')\n",
    "plt.ylabel('Shear Force')\n",
    "plt.legend()\n",
    "    \n",
    "    "
   ]
  },
  {
   "cell_type": "code",
   "execution_count": 40,
   "metadata": {},
   "outputs": [
    {
     "data": {
      "text/plain": [
       "<matplotlib.legend.Legend at 0x1c5422b9898>"
      ]
     },
     "execution_count": 40,
     "metadata": {},
     "output_type": "execute_result"
    },
    {
     "data": {
      "image/png": "[encoded data removed]",
      "text/plain": [
       "<Figure size 432x288 with 1 Axes>"
      ]
     },
     "metadata": {
      "needs_background": "light"
     },
     "output_type": "display_data"
    }
   ],
   "source": [
    "xi = np.linspace(0, L, 10)\n",
    "x_all = []\n",
    "theta_x = []\n",
    "for element in range(NumberOfElements):\n",
    "    Nodes = ConnectionMatrix[element] \n",
    "    if TypeElement == 'Beam2':\n",
    "        DOF = np.hstack((Nodes, Nodes+NumberOfNodes)) #Degree of freedom: 2 displacements and 2 rotations\n",
    "    elif TypeElement == 'Beam2+':\n",
    "        DOF = np.hstack((Nodes, Nodes+NumberOfNodes, [2*NumberOfNodes + element])) #Degree of freedom: 2 displacements and 2 rotations\n",
    "    Crd = NodeCoordinates[Nodes]\n",
    "    L = Crd[-1]-Crd[0]\n",
    "    x = np.linspace(Crd[0], Crd[-1], 10)\n",
    "    theta_x = np.hstack((theta_x, (N(xi, L).transpose(2,0,1)@res[DOF])[:,1]))\n",
    "    x_all = np.hstack((x_all, x))\n",
    "\n",
    "plt.plot(x_all, theta_x, label='sol_EF')\n",
    "plt.xlabel('x')\n",
    "plt.ylabel('Theta')\n",
    "plt.legend()"
   ]
  },
  {
   "cell_type": "markdown",
   "metadata": {},
   "source": [
    "## Pour aller plus loin\n",
    "* Modifier le nombre de noeuds et relancer le calcul pour observer la convergence des résultats vers la solution analytique. On remarque que le résultat de l'effort tranchant n'est pas satisfaisant.\n",
    "* Changer pour l'élément 'Beam3' à 3 noeuds et observer les résultats. La convergence de la flèche et du moment fléchissant est améliorée mais l'effort tranchant et l'évolution de l'angle de rotation de section ne sont toujours pas bien approchés. On peut donc conclure qu'augmenter l'ordre de l'interpolation ne conduit pas toujours à une meilleur approximation.\n",
    "* Changer pour l'élément 'Beam2+' et observer les résultats. On voit clairement une amélioration sur l'approximation de l'effort tranchant. Comme la flexion est dominante dans ce problème, l'angle de glissement sera très petit. Dans l'expression de l'angle de glissement, nous voyons donc que la dérivée de $v$ sera proche de $\\theta$. Il est donc souhaitable d'utiliser une interpolation d'ordre plus élevé pour $v$ que pour $\\theta$. L'élément 'Beam2+' est construit de sur la base d'une interpolation linéaire pour $v$ et $\\theta$ mais on rajoute un degré de liberté supplémentaire pour enrichir l'interpolation de $v$. La fonction de forme associée à ce degré de liberté est quadratique, vaut 1 au centre (en $\\frac{L}{2}$) et s'annule sur les bords de l'élément. Il est bien sur aussi possible de construire une interpolation quadratique pour $v$ et affine pour $\\theta$. "
   ]
  },
  {
   "cell_type": "code",
   "execution_count": null,
   "metadata": {},
   "outputs": [],
   "source": []
  }
 ],
 "metadata": {
  "kernelspec": {
   "display_name": "Python 3",
   "language": "python",
   "name": "python3"
  },
  "language_info": {
   "codemirror_mode": {
    "name": "ipython",
    "version": 3
   },
   "file_extension": ".py",
   "mimetype": "text/x-python",
   "name": "python",
   "nbconvert_exporter": "python",
   "pygments_lexer": "ipython3",
   "version": "3.7.3"
  }
 },
 "nbformat": 4,
 "nbformat_minor": 2
}
