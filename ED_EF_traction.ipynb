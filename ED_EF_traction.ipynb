{
 "cells": [
  {
   "cell_type": "markdown",
   "metadata": {},
   "source": [
    "# Résolution d'un problème de compression d'un poteau par éléments finis\n",
    "Exemple vu en ED éléments finis - Mécanique des solides déformations \n",
    "\n",
    "@Arts et Métiers - Campus de Bordeaux"
   ]
  },
  {
   "cell_type": "markdown",
   "metadata": {},
   "source": [
    "## Choix d’une modélisation\n",
    "On souhaite étudier la tenue mécanique d’un poteau en acier (S185 galvanisé) supportant un câble.\n",
    "Ce poteau fait une hauteur H. Il est tubulaire : sa section droite est circulaire et creuse, de rayon extérieur r et d’épaisseur e constants.\n",
    "\n",
    "Le poids du câble à supporter est modélisé par un effort ponctuel $\\vec{F} = F\\vec{x}$ appliqué au point A.\n",
    "La gravité est modélisée par un effort linéique constant $\\vec{f}_l = f_l\\vec{x}$ .\n",
    "La liaison entre le poteau et le sol est modélisée par un encastrement.\n",
    "\n",
    "On suppose que le matériau est homogène et isotrope. Ses propriétés élastiques sont données par le module d’Young $E$, le coefficient de Poisson $\\nu$, et la limite d’élasticité $Re$. Sa masse volumique est notée $\\rho$.\n",
    "Le cadre d’application est celui des Petites Perturbations.\n",
    "\n",
    "Données : $H$ = 5m, $r$ = 15cm, $e$ = 5mm, $E$ = 210GPa, $\\nu$ = 0.285, $Re$ = 185MPa, $\\rho$ = 7850kg/m3.\n",
    "\n",
    "Remarque : Dans le code, certains paramètres sont définis comme des fonctions pour pouvoir les remplacer par des valeurs variables le long de la poutre. \n"
   ]
  },
  {
   "cell_type": "code",
   "execution_count": 20,
   "metadata": {},
   "outputs": [],
   "source": [
    "import numpy as np\n",
    "from matplotlib import pylab as plt\n",
    "\n",
    "H = 5\n",
    "E = 210e9 #Young Modulus\n",
    "rho = 7850\n",
    "F = -1000 #point force at the high end of the beam\n",
    "g = 9.81 #gravity acceleration \n",
    "\n",
    "TypeRadius = 'Constant' #may be changed by 'Variable'\n",
    "\n",
    "if TypeRadius == 'Constant':\n",
    "    def r(x): return 0.15 # Constant section radius\n",
    "elif TypeRadius == 'Variable':    \n",
    "    def r(x): return 0.20*(1-x/H)+ 0.10*x/H # Variale section radius\n",
    "    \n",
    "else: raise NameError(\"TypeRadius should be either 'Constant' or 'Variable'\")\n",
    "def e(x): return 0.005 #Section thickness\n",
    "def S(x): return np.pi * (r(x)**2 - (r(x)-e(x))**2)  #Section Area\n",
    "def fl(x): return -rho * g * S(x) #lineic force "
   ]
  },
  {
   "cell_type": "markdown",
   "metadata": {},
   "source": [
    "## Choix d'une discrétisation\n",
    "Afin de résoudre ce problème par la méthode des éléments finis, on choisit de discrétiser la poutre ci-dessus en 3 éléments identiques (poutres à deux nœuds en traction-compression) de longueur L.\n",
    "Il y aura ainsi 4 noeuds au total. La position des noeuds suivant $\\vec{x}$ est déterminé avec la fonction linspace de numpy.\n",
    "\n",
    "Remarque : il est également possible d'utiliser des éléments poutres à 3 noeuds en utilisant TypeElement = 'Beam3'."
   ]
  },
  {
   "cell_type": "code",
   "execution_count": 21,
   "metadata": {},
   "outputs": [
    {
     "name": "stdout",
     "output_type": "stream",
     "text": [
      "[0.         0.83333333 1.66666667 2.5        3.33333333 4.16666667\n",
      " 5.        ]\n"
     ]
    }
   ],
   "source": [
    "xmin = 0\n",
    "xmax = H\n",
    "NumberOfElements = 3\n",
    "TypeElement = 'Beam3' #can be modified to 'Beam3'\n",
    "\n",
    "if TypeElement == 'Beam2': NumberOfNodes = NumberOfElements + 1\n",
    "elif TypeElement == 'Beam3': NumberOfNodes = 2*NumberOfElements + 1\n",
    "else: raise NameError('TypeElement should be Beam2 or Beam3')\n",
    "    \n",
    "NodeCoordinates = np.linspace(xmin,xmax,NumberOfNodes)\n",
    "print(NodeCoordinates)"
   ]
  },
  {
   "cell_type": "markdown",
   "metadata": {},
   "source": [
    "Pour définir les 3 éléments, il convient de créer une matrice de connection dont les lignes sont les numéros des noeuds appartenant aux éléments (nombre de lignes = nombre d'éléments)"
   ]
  },
  {
   "cell_type": "code",
   "execution_count": 22,
   "metadata": {},
   "outputs": [
    {
     "name": "stdout",
     "output_type": "stream",
     "text": [
      "[[0 1 2]\n",
      " [2 3 4]\n",
      " [4 5 6]]\n"
     ]
    }
   ],
   "source": [
    "if TypeElement == 'Beam2':\n",
    "    ConnectionMatrix = np.c_[(np.arange(NumberOfNodes-1), np.arange(1,NumberOfNodes))]\n",
    "elif TypeElement == 'Beam3':\n",
    "    ConnectionMatrix = np.c_[(np.arange(0,NumberOfNodes-2,2), np.arange(1,NumberOfNodes-1,2),np.arange(2,NumberOfNodes,2))]\n",
    "    \n",
    "print(ConnectionMatrix)"
   ]
  },
  {
   "cell_type": "markdown",
   "metadata": {},
   "source": [
    "## Champs de déplacement de déformation et de contraintes approchés \n",
    "### Interpolation du champ de déplacement\n",
    "Pour la méthode des éléments finis, il faut commencer par définir une fonction d'interpolation sur chaque élément.\n",
    "Pour un élément poutre en traction/compression à 2 noeuds, de longueur $L$ et centré en 0, le champ de déplacement suivant est interpolé par : \n",
    "$$u(\\xi) = \\left[ \\begin{matrix} \\frac{1}{2} - \\frac{\\xi}{L} & \\frac{1}{2} + \\frac{\\xi}{L} \\end{matrix} \\right] . \\left[ \\begin{matrix} u_i \\\\ u_j \\end{matrix} \\right] = N(\\xi) . q_{el}$$\n",
    "$\\xi$ est la coordonnée définie dans le repère élémentaire. Pour passer du repère élémentaire au repère gobal, il suffit de faire le changement de variable $x = \\xi+x_0$ avec $x_0$ l'absisse de l'origine du repère élémentaire.\n",
    "\n",
    "La fonction $N(\\xi, L)$ est donc créée pour l'interpolation du champ de déplacement. Si $\\xi$ et $L$ sont des scalaires, $N(\\xi, L)$ renvoie une matrice ligne. Si $\\xi$ est un numpy array de dimension 1, $N$ retourne un tableau de dimension 3 contenant toutes les valeurs de $N$ pour les position $\\xi$ données."
   ]
  },
  {
   "cell_type": "code",
   "execution_count": 23,
   "metadata": {},
   "outputs": [],
   "source": [
    "if TypeElement == 'Beam2':\n",
    "    def N(xi,L):\n",
    "        return np.array([[1/2 - xi/L, 1/2 + xi/L]])\n",
    "elif TypeElement == 'Beam3':\n",
    "    def N(xi,L):\n",
    "        return np.array([[2*xi**2/L**2 - xi/L, 1-4*xi**2/L**2 , 2*xi**2/L**2 + xi/L]])"
   ]
  },
  {
   "cell_type": "markdown",
   "metadata": {},
   "source": [
    "### Visualisations les fonctions de forme en utilisant la fonction plot de matplotlib. "
   ]
  },
  {
   "cell_type": "code",
   "execution_count": 24,
   "metadata": {
    "scrolled": true
   },
   "outputs": [
    {
     "data": {
      "text/plain": [
       "<matplotlib.legend.Legend at 0x1f7f45aaf98>"
      ]
     },
     "execution_count": 24,
     "metadata": {},
     "output_type": "execute_result"
    },
    {
     "data": {
      "image/png": "[encoded data removed]",
      "text/plain": [
       "<Figure size 432x288 with 1 Axes>"
      ]
     },
     "metadata": {
      "needs_background": "light"
     },
     "output_type": "display_data"
    }
   ],
   "source": [
    "NumberOfPointsToPlot = 20\n",
    "L=1\n",
    "xi = np.linspace(-L/2, L/2, NumberOfPointsToPlot)\n",
    "plt.plot(xi, N(xi,L)[0,0,:], label='N_i')\n",
    "plt.plot(xi, N(xi,L)[0,1,:], label='N_j')\n",
    "if TypeElement == 'Beam3': \n",
    "    plt.plot(xi, N(xi,L)[0,2,:], label='N_k')\n",
    "plt.xlabel('xi')\n",
    "plt.ylabel('N(xi)')\n",
    "plt.legend()"
   ]
  },
  {
   "cell_type": "markdown",
   "metadata": {},
   "source": [
    "### Interpolation des déformations et contraintes\n",
    "Pour un élément poutre en traction/compression, la seule déformation utile est l'allongement axial donné par $\\varepsilon = \\frac{du}{dx}$.\n",
    "$$\\frac{du}{dx}(\\xi) = \\left[ \\begin{matrix} - \\frac{1}{L} & \\frac{1}{L} \\end{matrix} \\right] . \\left[ \\begin{matrix} u_i \\\\ u_j \\end{matrix} \\right] = B(\\xi) . q_{el}$$\n",
    "\n",
    "Pour en déduire l'effort normal dans la poutre, il convient d'utiliser la loi de comportement généralisée :\n",
    "$\\sigma = \\frac{ES}{L} \\frac{du}{dx}$\n",
    "\n",
    "Nous définissons donc les fonction matricielles 'B' et 'StressMatrix' respectivement pour l'interpolation des déformations et des contraintes généralisées (effort normal)."
   ]
  },
  {
   "cell_type": "code",
   "execution_count": 25,
   "metadata": {},
   "outputs": [],
   "source": [
    "if TypeElement == 'Beam2':\n",
    "    def B(xi, L):\n",
    "        return np.array([[-1/L + 0*xi, 1/L + 0*xi]])\n",
    "\n",
    "elif TypeElement == 'Beam3':\n",
    "    def B(xi, L):\n",
    "        return np.array([[4*xi/L**2-1/L, -8*xi/L**2, 4*xi/L**2+1/L]])\n",
    "    \n",
    "def StressMatrix(xi, L, x0, E, S):\n",
    "    x = xi+x0 #change of variable: local coordinate is transform into global coordinate to use the function S\n",
    "    return E*S(x)*B(xi,L)"
   ]
  },
  {
   "cell_type": "markdown",
   "metadata": {},
   "source": [
    "Remarque : dans la fonction B, le terme '0\\*xi' ne sert qu'à retourné un tableau de bonne dimension. \n",
    "Pour les éléments d'ordre 1, la valeur retournée ne dépend pas de $\\xi$. La fonction garde néanmoins une dépendance en $\\xi$ pour permettre l'utilisation d'éléments d'ordre plus élevé."
   ]
  },
  {
   "cell_type": "markdown",
   "metadata": {},
   "source": [
    "## Matrice de rigidité élémentaire\n",
    "Pour calculer la matrice de rigidité élémentaire $K_{el}$, il faut revenir à la définition de l'énergie élastique.\n",
    "Pour des éléments poutres à 2 noeuds : \n",
    "$$E_d = \\frac{1}{2} \\int_{-\\frac{L}{2}}^{\\frac{L}{2}} \\sigma \\varepsilon \\, d\\xi$$\n",
    "Et donc en utilisant les interpolations de $\\varepsilon$ et $\\sigma$:\n",
    "$$E_d = q_{el}^T \\, \\frac{1}{2} \\underbrace{\\left( \\int_{-\\frac{L}{2}}^{\\frac{L}{2}} ES \\, B(\\xi,L)^T . B(\\xi,L) \\, d\\xi \\right)}_{K_{el}} \\, q_{el} $$\n",
    "\n",
    "On commence par définir une fonction pour l'intégration basée sur la méthode des trapèzes dans un soucis de simplicité."
   ]
  },
  {
   "cell_type": "code",
   "execution_count": 26,
   "metadata": {},
   "outputs": [],
   "source": [
    "NumberOfIntegrationPoints = 500\n",
    "\n",
    "def integrate(f, a, b, N):\n",
    "    x = np.linspace(a, b, N)\n",
    "    fx = f(x)\n",
    "    area = np.sum(fx,axis = 0)*(b-a)/N\n",
    "    return area"
   ]
  },
  {
   "cell_type": "markdown",
   "metadata": {},
   "source": [
    "Nous avons vu que $K_{el} = \\int_{-\\frac{L}{2}}^{\\frac{L}{2}} dE(\\xi,L,E,S) \\, d\\xi$\n",
    "avec $dE = ES \\, B(\\xi,L)^T . B(\\xi,L)$.\n",
    "\n",
    "Nous définons donc la fonction dE que nous intégrons numériquement entre $-\\frac{L}{2}$ et $\\frac{L}{2}$.\n",
    "Ces 2 étapes sont inclus dans la fonction GetElementStiffnessMatrix qui renvoit la matrice de rigidité $K_{el}$."
   ]
  },
  {
   "cell_type": "code",
   "execution_count": 27,
   "metadata": {},
   "outputs": [],
   "source": [
    "def GetElementStiffnessMatrix(L, x0, E, S, NumberOfIntegrationPoints):\n",
    "    def dE(xi):\n",
    "        Sigma = np.transpose( StressMatrix(xi,L,x0,E,S) , (2,1,0) )\n",
    "        Epsilon = np.transpose( B(xi,L) , (2,0,1) )\n",
    "        return Sigma @ Epsilon #@ operator = stack of matrix multiplication\n",
    "    \n",
    "    return integrate(dE,-L/2,L/2, NumberOfIntegrationPoints)"
   ]
  },
  {
   "cell_type": "code",
   "execution_count": 28,
   "metadata": {},
   "outputs": [
    {
     "name": "stdout",
     "output_type": "stream",
     "text": [
      "[[ 1.36547184e+09 -1.56321369e+09  1.97741852e+08]\n",
      " [-1.56321369e+09  3.12642739e+09 -1.56321369e+09]\n",
      " [ 1.97741852e+08 -1.56321369e+09  1.36547184e+09]]\n"
     ]
    }
   ],
   "source": [
    "Kel = GetElementStiffnessMatrix(H/NumberOfElements,0,E,S,NumberOfIntegrationPoints)\n",
    "print(Kel)"
   ]
  },
  {
   "cell_type": "markdown",
   "metadata": {},
   "source": [
    "## Assemblage de la matrice de rigidité globale"
   ]
  },
  {
   "cell_type": "markdown",
   "metadata": {},
   "source": [
    "L'assemblage de la matrice globale se fait simplement avec une boucle sur les éléments en ajoutant la contribution de chaque élément aux noeuds correspondants. "
   ]
  },
  {
   "cell_type": "code",
   "execution_count": 29,
   "metadata": {},
   "outputs": [
    {
     "name": "stdout",
     "output_type": "stream",
     "text": [
      "[0.         0.83333333 1.66666667]\n",
      "[1.66666667 2.5        3.33333333]\n",
      "[3.33333333 4.16666667 5.        ]\n",
      "[[ 1.36547184e+09 -1.56321369e+09  1.97741852e+08  0.00000000e+00\n",
      "   0.00000000e+00  0.00000000e+00  0.00000000e+00]\n",
      " [-1.56321369e+09  3.12642739e+09 -1.56321369e+09  0.00000000e+00\n",
      "   0.00000000e+00  0.00000000e+00  0.00000000e+00]\n",
      " [ 1.97741852e+08 -1.56321369e+09  2.73094368e+09 -1.56321369e+09\n",
      "   1.97741852e+08  0.00000000e+00  0.00000000e+00]\n",
      " [ 0.00000000e+00  0.00000000e+00 -1.56321369e+09  3.12642739e+09\n",
      "  -1.56321369e+09  0.00000000e+00  0.00000000e+00]\n",
      " [ 0.00000000e+00  0.00000000e+00  1.97741852e+08 -1.56321369e+09\n",
      "   2.73094368e+09 -1.56321369e+09  1.97741852e+08]\n",
      " [ 0.00000000e+00  0.00000000e+00  0.00000000e+00  0.00000000e+00\n",
      "  -1.56321369e+09  3.12642739e+09 -1.56321369e+09]\n",
      " [ 0.00000000e+00  0.00000000e+00  0.00000000e+00  0.00000000e+00\n",
      "   1.97741852e+08 -1.56321369e+09  1.36547184e+09]]\n"
     ]
    }
   ],
   "source": [
    "#Assemble the global stiffness matrix\n",
    "StiffnessMatrix = np.zeros((NumberOfNodes, NumberOfNodes))\n",
    "for element in range(NumberOfElements):\n",
    "    Nodes = ConnectionMatrix[element]   \n",
    "    Crd = NodeCoordinates[Nodes]\n",
    "    print(Crd)\n",
    "    L = Crd[-1] - Crd[0]\n",
    "    x0 = (Crd[0] + Crd[1])/2\n",
    "    Kel = GetElementStiffnessMatrix(L,x0,E,S,NumberOfIntegrationPoints) #not needed if L, E, or S are the same for each element\n",
    "    StiffnessMatrix[Nodes.reshape(-1,1), Nodes] += Kel   \n",
    "\n",
    "print(StiffnessMatrix)"
   ]
  },
  {
   "cell_type": "markdown",
   "metadata": {},
   "source": [
    "## Matrice colonne des efforts généralisés\n"
   ]
  },
  {
   "cell_type": "markdown",
   "metadata": {},
   "source": [
    "Pour les efforts généralisées, on distingue les efforts ponctuels aux noeuds des efforts linéiques.\n",
    "On commence par initialiser un vecteur 'ForceVector' contenant uniquement les efforts aux noeuds (ici, un seul effort ponctuel sur le dernier noeuds (noeud 4). "
   ]
  },
  {
   "cell_type": "code",
   "execution_count": 30,
   "metadata": {},
   "outputs": [
    {
     "name": "stdout",
     "output_type": "stream",
     "text": [
      "[    0.     0.     0.     0.     0.     0. -1000.]\n"
     ]
    }
   ],
   "source": [
    "ForceVector = np.zeros(NumberOfNodes)\n",
    "ForceVector[-1] = F\n",
    "print(ForceVector)"
   ]
  },
  {
   "cell_type": "markdown",
   "metadata": {},
   "source": [
    "Pour les efforts linéiques, il faut revenir à la définition du travail des efforts exterieurs sur un élément. \n",
    "$$W_{ext} = \\int_{-\\frac{L}{2}}^{\\frac{L}{2}} f_l(x) u(\\xi) \\, d\\xi$$\n",
    "Et donc en utilisant l'interpolation de $u(x)$:\n",
    "$$W_{ext} = q_{el}^T \\, \\underbrace{\\left( \\int_{-\\frac{L}{2}}^{\\frac{L}{2}} N(\\xi,L)^T . f_l(\\xi+x_0) \\, d\\xi \\right)}_{F_{el}}  $$\n",
    "\n",
    "Comme pour la matrice de rigidité globale, nous définissons une fonction $dF = N(\\xi,L)^T . f_l(\\xi+x0)$ que nous intégrons sur chaque élément pour avoir $F_{el}$, puis nous sommons les contributions de chaque éléments dans une matrice colonne globale (matrice des efforts généralisés). "
   ]
  },
  {
   "cell_type": "code",
   "execution_count": 31,
   "metadata": {},
   "outputs": [
    {
     "name": "stdout",
     "output_type": "stream",
     "text": [
      "[  -99.52111581  -395.70072395  -199.04223163  -395.70072395\n",
      "  -199.04223163  -395.70072395 -1099.52111581]\n"
     ]
    }
   ],
   "source": [
    "#Assemble force vector\n",
    "for element in range(NumberOfElements):\n",
    "    Nodes = ConnectionMatrix[element]   \n",
    "    Crd = NodeCoordinates[Nodes]\n",
    "    L = Crd[-1] - Crd[0]\n",
    "    x0 = (Crd[0] + Crd[1])/2\n",
    "    def dF(xi):\n",
    "        return (fl(xi+x0)*N(xi,L)).transpose(2,0,1)\n",
    "        \n",
    "    Fel = integrate(dF, -L/2, L/2, NumberOfIntegrationPoints)\n",
    "    ForceVector[Nodes] += Fel[0]  \n",
    "    \n",
    "print(ForceVector)"
   ]
  },
  {
   "cell_type": "markdown",
   "metadata": {},
   "source": [
    "## Conditions aux limites et résolution\n",
    "On définit une matrice G telle que les conditions aux limites s'écrivent : $G q = Q_d$.\n",
    "Ici nous avons uniquement le premier noeud (noeud 0) qui est bloqué : $u_0=0$."
   ]
  },
  {
   "cell_type": "code",
   "execution_count": 32,
   "metadata": {},
   "outputs": [
    {
     "name": "stdout",
     "output_type": "stream",
     "text": [
      "[[1. 0. 0. 0. 0. 0. 0.]]\n",
      "[0]\n"
     ]
    }
   ],
   "source": [
    "G = np.zeros((1,NumberOfNodes))\n",
    "G[:,0] = 1\n",
    "Qd = np.array([0]) \n",
    "print(G)\n",
    "print(Qd)\n",
    "\n",
    "\n"
   ]
  },
  {
   "cell_type": "markdown",
   "metadata": {},
   "source": [
    "On construit ensuite le système à résoudre : $M q = V$. \n",
    "Les conditions aux limites sont appliquées avec la méthode des multiplicateurs de Lagrange."
   ]
  },
  {
   "cell_type": "code",
   "execution_count": 33,
   "metadata": {},
   "outputs": [
    {
     "name": "stdout",
     "output_type": "stream",
     "text": [
      "[[ 1.36547184e+09 -1.56321369e+09  1.97741852e+08  0.00000000e+00\n",
      "   0.00000000e+00  0.00000000e+00  0.00000000e+00 -1.00000000e+00]\n",
      " [-1.56321369e+09  3.12642739e+09 -1.56321369e+09  0.00000000e+00\n",
      "   0.00000000e+00  0.00000000e+00  0.00000000e+00 -0.00000000e+00]\n",
      " [ 1.97741852e+08 -1.56321369e+09  2.73094368e+09 -1.56321369e+09\n",
      "   1.97741852e+08  0.00000000e+00  0.00000000e+00 -0.00000000e+00]\n",
      " [ 0.00000000e+00  0.00000000e+00 -1.56321369e+09  3.12642739e+09\n",
      "  -1.56321369e+09  0.00000000e+00  0.00000000e+00 -0.00000000e+00]\n",
      " [ 0.00000000e+00  0.00000000e+00  1.97741852e+08 -1.56321369e+09\n",
      "   2.73094368e+09 -1.56321369e+09  1.97741852e+08 -0.00000000e+00]\n",
      " [ 0.00000000e+00  0.00000000e+00  0.00000000e+00  0.00000000e+00\n",
      "  -1.56321369e+09  3.12642739e+09 -1.56321369e+09 -0.00000000e+00]\n",
      " [ 0.00000000e+00  0.00000000e+00  0.00000000e+00  0.00000000e+00\n",
      "   1.97741852e+08 -1.56321369e+09  1.36547184e+09 -0.00000000e+00]\n",
      " [ 1.00000000e+00  0.00000000e+00  0.00000000e+00  0.00000000e+00\n",
      "   0.00000000e+00  0.00000000e+00  0.00000000e+00  0.00000000e+00]]\n"
     ]
    }
   ],
   "source": [
    "nbCL = np.shape(G)[0]\n",
    "M = np.block([[StiffnessMatrix, -G.T],[G, np.zeros((nbCL, nbCL))]])\n",
    "print(M)"
   ]
  },
  {
   "cell_type": "code",
   "execution_count": 34,
   "metadata": {},
   "outputs": [
    {
     "name": "stdout",
     "output_type": "stream",
     "text": [
      "[  -99.52111581  -395.70072395  -199.04223163  -395.70072395\n",
      "  -199.04223163  -395.70072395 -1099.52111581     0.        ]\n"
     ]
    }
   ],
   "source": [
    "V = np.block([ForceVector, Qd])\n",
    "print(V)"
   ]
  },
  {
   "cell_type": "markdown",
   "metadata": {},
   "source": [
    "le système est résolu par une méthode directe (pivot de Gauss). Pour les grands systèmes creux, l'utilisation d'une méthode itérative est en général plus efficace. "
   ]
  },
  {
   "cell_type": "code",
   "execution_count": 35,
   "metadata": {},
   "outputs": [
    {
     "name": "stdout",
     "output_type": "stream",
     "text": [
      "[ 1.28238952e-20 -2.25621746e-06 -4.25930208e-06 -6.00620407e-06\n",
      " -7.49997322e-06 -8.73755973e-06 -9.72201340e-06]\n",
      "[2784.22886675]\n"
     ]
    }
   ],
   "source": [
    "res  = np.linalg.solve(M, V)\n",
    "U = res[:NumberOfNodes]\n",
    "R = res[NumberOfNodes:]\n",
    "print(U) #Nodal displacement\n",
    "print(R) #Force Reaction"
   ]
  },
  {
   "cell_type": "markdown",
   "metadata": {},
   "source": [
    "## Visualisation\n",
    "### Visualisation du déplacement\n"
   ]
  },
  {
   "cell_type": "code",
   "execution_count": 36,
   "metadata": {
    "scrolled": true
   },
   "outputs": [
    {
     "data": {
      "text/plain": [
       "<matplotlib.legend.Legend at 0x1f7f4614c50>"
      ]
     },
     "execution_count": 36,
     "metadata": {},
     "output_type": "execute_result"
    },
    {
     "data": {
      "image/png": "[encoded data removed]",
      "text/plain": [
       "<Figure size 432x288 with 1 Axes>"
      ]
     },
     "metadata": {
      "needs_background": "light"
     },
     "output_type": "display_data"
    }
   ],
   "source": [
    "if TypeRadius == 'Constant':\n",
    "    #Reference solution (only for constant fl and S)\n",
    "    x = np.linspace(0, H, 10*NumberOfElements)\n",
    "    plt.plot(x, ((F+fl(x)*H)*x-fl(x)/2*x**2)/(E*S(x)), label='sol_Ref')    \n",
    "elif TypeRadius == 'Variable':\n",
    "    #no analytical solution in this case\n",
    "    pass \n",
    "\n",
    "#FE solution\n",
    "xi = np.linspace(-L/2, L/2, 10)\n",
    "x_all = []\n",
    "u_x = []\n",
    "for element in range(NumberOfElements):\n",
    "    Nodes = ConnectionMatrix[element]   \n",
    "    Crd = NodeCoordinates[Nodes]\n",
    "    L = Crd[-1]-Crd[0]\n",
    "    x = np.linspace(Crd[0], Crd[-1], 10)\n",
    "    u_x = np.hstack((u_x, (N(xi, L).transpose(2,0,1)@U[Nodes])[:,0]))\n",
    "    x_all = np.hstack((x_all, x))\n",
    "\n",
    "plt.plot(x_all, u_x, label='sol_EF')\n",
    "plt.xlabel('x')\n",
    "plt.ylabel('U')\n",
    "plt.legend()"
   ]
  },
  {
   "cell_type": "markdown",
   "metadata": {},
   "source": [
    "### Visualisation de l'effort normal\n",
    "La solution analytique s'écrit : $\\sigma = F+f_l(H-x)$.\n",
    "\n",
    "Attention, ici $\\sigma$ est homogène à une force et pas à une contrainte.\n",
    "Remarque : F<0 et fl<0."
   ]
  },
  {
   "cell_type": "code",
   "execution_count": 37,
   "metadata": {},
   "outputs": [
    {
     "data": {
      "text/plain": [
       "<matplotlib.legend.Legend at 0x1f7f4684278>"
      ]
     },
     "execution_count": 37,
     "metadata": {},
     "output_type": "execute_result"
    },
    {
     "data": {
      "image/png": "[encoded data removed]",
      "text/plain": [
       "<Figure size 432x288 with 1 Axes>"
      ]
     },
     "metadata": {
      "needs_background": "light"
     },
     "output_type": "display_data"
    }
   ],
   "source": [
    "if TypeRadius == 'Constant':\n",
    "    #Reference solution (only for constant fl and S)\n",
    "    x = np.linspace(0, H, 10*NumberOfElements)\n",
    "    plt.plot(x, F+fl(x)*(H-x), label='sol_Ref')\n",
    "elif TypeRadius == 'Variable':\n",
    "    #Reference solution (only for linear variation of S and fl)\n",
    "    x = np.linspace(0, H, 10*NumberOfElements)\n",
    "    a = (fl(H)-fl(0))/H ; b = fl(0) #fl=ax+b\n",
    "    plt.plot(x, F + (H**2-x**2)/2*a + (H-x)*b, label='sol_Ref')\n",
    "\n",
    "#FE solution\n",
    "xi = np.linspace(-L/2, L/2, 10)\n",
    "x_all = []\n",
    "sigma_x = []\n",
    "for element in range(NumberOfElements):\n",
    "    Nodes = ConnectionMatrix[element]   \n",
    "    Crd = NodeCoordinates[Nodes]\n",
    "    L = Crd[-1]-Crd[0]\n",
    "    x0 = (Crd[0]+Crd[1])/2\n",
    "    x = np.linspace(Crd[0], Crd[-1], 10)\n",
    "    sigma_x = np.hstack((sigma_x, (StressMatrix(xi, L, x0, E, S).transpose(2,0,1)@U[Nodes])[:,0]))\n",
    "    x_all = np.hstack((x_all, x))\n",
    "\n",
    "plt.plot(x_all, sigma_x, label='sol_EF')\n",
    "plt.xlabel('x')\n",
    "plt.ylabel('Normal force')\n",
    "plt.legend()"
   ]
  },
  {
   "cell_type": "markdown",
   "metadata": {},
   "source": [
    "Remarque : La réaction à l'encastrement donnée par le multiplicateur de lagrange $R$ donne la solution exacte car nous sommes dans le cas d'un problème isostatique. "
   ]
  },
  {
   "cell_type": "code",
   "execution_count": 38,
   "metadata": {},
   "outputs": [
    {
     "name": "stdout",
     "output_type": "stream",
     "text": [
      "[2784.22886675]\n",
      "2784.2288667467765\n"
     ]
    }
   ],
   "source": [
    "print(R)\n",
    "if TypeRadius == 'Constant':\n",
    "    print(-F-fl(0)*H)\n",
    "elif TypeRadius == 'Variable':\n",
    "    a = (fl(H)-fl(0))/H ; b = fl(0) #fl=ax+b\n",
    "    print(-F - H**2/2*a - H*b)"
   ]
  },
  {
   "cell_type": "markdown",
   "metadata": {},
   "source": [
    "## Pour aller plus loin\n",
    "* Modifier le nombre de noeuds et relancer le calcul pour observer la convergence des résultats vers la solution analytique.\n",
    "* Modifier le type d'élément en 'Beam3' et regarder la différence. Regarder en particulier la solution avec un seul élément. Est-ce que ce résultat était prévisible ?\n",
    "* Que se passe-t-il si on met moins de points d'intégration ? Par exemple on pourra utiliser 10 points (NumberOfIntegrationPoints = 10) avec des éléments 'Beam3'. On observe alors l'importance d'utiliser une méthode d'intégration précise. En pratique, la méthode de Gauss est souvent utilisée car elle donne une intégration exacte des polynômes.\n",
    "* Remplacer la Section constante, par une section variable (fonction affine) et donc un force linéique due au poids variable."
   ]
  }
 ],
 "metadata": {
  "kernelspec": {
   "display_name": "Python 3",
   "language": "python",
   "name": "python3"
  },
  "language_info": {
   "codemirror_mode": {
    "name": "ipython",
    "version": 3
   },
   "file_extension": ".py",
   "mimetype": "text/x-python",
   "name": "python",
   "nbconvert_exporter": "python",
   "pygments_lexer": "ipython3",
   "version": "3.7.3"
  }
 },
 "nbformat": 4,
 "nbformat_minor": 2
}
